{
  "cells": [
    {
      "cell_type": "markdown",
      "metadata": {
        "id": "jPmI8mOI7Hza"
      },
      "source": [
        "# Flood Detection"
      ]
    },
    {
      "cell_type": "markdown",
      "metadata": {
        "id": "U8UwiGx27Hzb"
      },
      "source": [
        "We are working on **flood detection** using satellite images from **Sentinel-1 (SAR)** and **Sentinel-2 (optical)** as our dataset. We are training a **Convolutional Neural Network (CNN)** to learn patterns of flooded and non-flooded areas from these images. Once the model is trained, we will use it to **predict floods in new SAR images of Guwahati**, helping us identify which areas are likely affected by flooding. This approach combines both radar and optical data to improve detection accuracy."
      ]
    },
    {
      "cell_type": "markdown",
      "metadata": {
        "id": "yPI-oLAr7Hzc"
      },
      "source": [
        "### Installing and Importing Required Libraries"
      ]
    },
    {
      "cell_type": "code",
      "execution_count": null,
      "metadata": {
        "collapsed": true,
        "execution": {
          "iopub.execute_input": "2025-10-05T07:45:33.414246Z",
          "iopub.status.busy": "2025-10-05T07:45:33.413851Z",
          "iopub.status.idle": "2025-10-05T07:47:14.578251Z",
          "shell.execute_reply": "2025-10-05T07:47:14.577199Z",
          "shell.execute_reply.started": "2025-10-05T07:45:33.414157Z"
        },
        "id": "YCEouY-d7Hzc",
        "outputId": "f27ec6d6-da31-4513-e67e-5d2ecb17ae45",
        "trusted": true
      },
      "outputs": [
        {
          "name": "stdout",
          "output_type": "stream",
          "text": [
            "Requirement already satisfied: tensorflow in /opt/conda/lib/python3.7/site-packages (2.6.4)\n",
            "Requirement already satisfied: tensorflow-estimator<2.7,>=2.6.0 in /opt/conda/lib/python3.7/site-packages (from tensorflow) (2.6.0)\n",
            "Requirement already satisfied: wheel~=0.35 in /opt/conda/lib/python3.7/site-packages (from tensorflow) (0.37.1)\n",
            "Requirement already satisfied: flatbuffers~=1.12.0 in /opt/conda/lib/python3.7/site-packages (from tensorflow) (1.12)\n",
            "Requirement already satisfied: grpcio<2.0,>=1.37.0 in /opt/conda/lib/python3.7/site-packages (from tensorflow) (1.43.0)\n",
            "Requirement already satisfied: protobuf>=3.9.2 in /opt/conda/lib/python3.7/site-packages (from tensorflow) (3.20.1)\n",
            "Collecting six~=1.15.0\n",
            "  Downloading six-1.15.0-py2.py3-none-any.whl (10 kB)\n",
            "Collecting typing-extensions<3.11,>=3.7\n",
            "  Downloading typing_extensions-3.10.0.2-py3-none-any.whl (26 kB)\n",
            "Requirement already satisfied: keras<2.7,>=2.6.0 in /opt/conda/lib/python3.7/site-packages (from tensorflow) (2.6.0)\n",
            "Collecting absl-py~=0.10\n",
            "  Downloading absl_py-0.15.0-py3-none-any.whl (132 kB)\n",
            "\u001b[2K     \u001b[90m━━━━━━━━━━━━━━━━━━━━━━━━━━━━━━━━━━━━━━━\u001b[0m \u001b[32m132.0/132.0 kB\u001b[0m \u001b[31m3.4 MB/s\u001b[0m eta \u001b[36m0:00:00\u001b[0ma \u001b[36m0:00:01\u001b[0m\n",
            "\u001b[?25hRequirement already satisfied: h5py~=3.1.0 in /opt/conda/lib/python3.7/site-packages (from tensorflow) (3.1.0)\n",
            "Requirement already satisfied: google-pasta~=0.2 in /opt/conda/lib/python3.7/site-packages (from tensorflow) (0.2.0)\n",
            "Requirement already satisfied: clang~=5.0 in /opt/conda/lib/python3.7/site-packages (from tensorflow) (5.0)\n",
            "Requirement already satisfied: astunparse~=1.6.3 in /opt/conda/lib/python3.7/site-packages (from tensorflow) (1.6.3)\n",
            "Requirement already satisfied: tensorboard<2.7,>=2.6.0 in /opt/conda/lib/python3.7/site-packages (from tensorflow) (2.6.0)\n",
            "Requirement already satisfied: opt-einsum~=3.3.0 in /opt/conda/lib/python3.7/site-packages (from tensorflow) (3.3.0)\n",
            "Requirement already satisfied: gast==0.4.0 in /opt/conda/lib/python3.7/site-packages (from tensorflow) (0.4.0)\n",
            "Collecting numpy~=1.19.2\n",
            "  Downloading numpy-1.19.5-cp37-cp37m-manylinux2010_x86_64.whl (14.8 MB)\n",
            "\u001b[2K     \u001b[90m━━━━━━━━━━━━━━━━━━━━━━━━━━━━━━━━━━━━━━━━\u001b[0m \u001b[32m14.8/14.8 MB\u001b[0m \u001b[31m78.7 MB/s\u001b[0m eta \u001b[36m0:00:00\u001b[0m00:01\u001b[0m00:01\u001b[0m\n",
            "\u001b[?25hCollecting wrapt~=1.12.1\n",
            "  Downloading wrapt-1.12.1.tar.gz (27 kB)\n",
            "  Preparing metadata (setup.py) ... \u001b[?25ldone\n",
            "\u001b[?25hRequirement already satisfied: termcolor~=1.1.0 in /opt/conda/lib/python3.7/site-packages (from tensorflow) (1.1.0)\n",
            "Requirement already satisfied: keras-preprocessing~=1.1.2 in /opt/conda/lib/python3.7/site-packages (from tensorflow) (1.1.2)\n",
            "Requirement already satisfied: cached-property in /opt/conda/lib/python3.7/site-packages (from h5py~=3.1.0->tensorflow) (1.5.2)\n",
            "Requirement already satisfied: google-auth<2,>=1.6.3 in /opt/conda/lib/python3.7/site-packages (from tensorboard<2.7,>=2.6.0->tensorflow) (1.35.0)\n",
            "Requirement already satisfied: requests<3,>=2.21.0 in /opt/conda/lib/python3.7/site-packages (from tensorboard<2.7,>=2.6.0->tensorflow) (2.27.1)\n",
            "Requirement already satisfied: setuptools>=41.0.0 in /opt/conda/lib/python3.7/site-packages (from tensorboard<2.7,>=2.6.0->tensorflow) (59.8.0)\n",
            "Requirement already satisfied: markdown>=2.6.8 in /opt/conda/lib/python3.7/site-packages (from tensorboard<2.7,>=2.6.0->tensorflow) (3.3.7)\n",
            "Requirement already satisfied: google-auth-oauthlib<0.5,>=0.4.1 in /opt/conda/lib/python3.7/site-packages (from tensorboard<2.7,>=2.6.0->tensorflow) (0.4.6)\n",
            "Requirement already satisfied: werkzeug>=0.11.15 in /opt/conda/lib/python3.7/site-packages (from tensorboard<2.7,>=2.6.0->tensorflow) (2.1.2)\n",
            "Requirement already satisfied: tensorboard-plugin-wit>=1.6.0 in /opt/conda/lib/python3.7/site-packages (from tensorboard<2.7,>=2.6.0->tensorflow) (1.8.1)\n",
            "Requirement already satisfied: tensorboard-data-server<0.7.0,>=0.6.0 in /opt/conda/lib/python3.7/site-packages (from tensorboard<2.7,>=2.6.0->tensorflow) (0.6.1)\n",
            "Requirement already satisfied: cachetools<5.0,>=2.0.0 in /opt/conda/lib/python3.7/site-packages (from google-auth<2,>=1.6.3->tensorboard<2.7,>=2.6.0->tensorflow) (4.2.4)\n",
            "Requirement already satisfied: rsa<5,>=3.1.4 in /opt/conda/lib/python3.7/site-packages (from google-auth<2,>=1.6.3->tensorboard<2.7,>=2.6.0->tensorflow) (4.8)\n",
            "Requirement already satisfied: pyasn1-modules>=0.2.1 in /opt/conda/lib/python3.7/site-packages (from google-auth<2,>=1.6.3->tensorboard<2.7,>=2.6.0->tensorflow) (0.2.7)\n",
            "Requirement already satisfied: requests-oauthlib>=0.7.0 in /opt/conda/lib/python3.7/site-packages (from google-auth-oauthlib<0.5,>=0.4.1->tensorboard<2.7,>=2.6.0->tensorflow) (1.3.1)\n",
            "Requirement already satisfied: importlib-metadata>=4.4 in /opt/conda/lib/python3.7/site-packages (from markdown>=2.6.8->tensorboard<2.7,>=2.6.0->tensorflow) (4.11.4)\n",
            "Requirement already satisfied: certifi>=2017.4.17 in /opt/conda/lib/python3.7/site-packages (from requests<3,>=2.21.0->tensorboard<2.7,>=2.6.0->tensorflow) (2022.5.18.1)\n",
            "Requirement already satisfied: idna<4,>=2.5 in /opt/conda/lib/python3.7/site-packages (from requests<3,>=2.21.0->tensorboard<2.7,>=2.6.0->tensorflow) (3.3)\n",
            "Requirement already satisfied: charset-normalizer~=2.0.0 in /opt/conda/lib/python3.7/site-packages (from requests<3,>=2.21.0->tensorboard<2.7,>=2.6.0->tensorflow) (2.0.12)\n",
            "Requirement already satisfied: urllib3<1.27,>=1.21.1 in /opt/conda/lib/python3.7/site-packages (from requests<3,>=2.21.0->tensorboard<2.7,>=2.6.0->tensorflow) (1.26.9)\n",
            "Requirement already satisfied: zipp>=0.5 in /opt/conda/lib/python3.7/site-packages (from importlib-metadata>=4.4->markdown>=2.6.8->tensorboard<2.7,>=2.6.0->tensorflow) (3.8.0)\n",
            "Requirement already satisfied: pyasn1<0.5.0,>=0.4.6 in /opt/conda/lib/python3.7/site-packages (from pyasn1-modules>=0.2.1->google-auth<2,>=1.6.3->tensorboard<2.7,>=2.6.0->tensorflow) (0.4.8)\n",
            "Requirement already satisfied: oauthlib>=3.0.0 in /opt/conda/lib/python3.7/site-packages (from requests-oauthlib>=0.7.0->google-auth-oauthlib<0.5,>=0.4.1->tensorboard<2.7,>=2.6.0->tensorflow) (3.2.0)\n",
            "Building wheels for collected packages: wrapt\n",
            "  Building wheel for wrapt (setup.py) ... \u001b[?25ldone\n",
            "\u001b[?25h  Created wheel for wrapt: filename=wrapt-1.12.1-cp37-cp37m-linux_x86_64.whl size=77045 sha256=66af8b057bd84ceb3e6b520bfb5deaca007c88f894c556aad8f6553f8c2c3530\n",
            "  Stored in directory: /root/.cache/pip/wheels/62/76/4c/aa25851149f3f6d9785f6c869387ad82b3fd37582fa8147ac6\n",
            "Successfully built wrapt\n",
            "Installing collected packages: wrapt, typing-extensions, six, numpy, absl-py\n",
            "  Attempting uninstall: wrapt\n",
            "    Found existing installation: wrapt 1.14.1\n",
            "    Uninstalling wrapt-1.14.1:\n",
            "      Successfully uninstalled wrapt-1.14.1\n",
            "  Attempting uninstall: typing-extensions\n",
            "    Found existing installation: typing_extensions 4.2.0\n",
            "    Uninstalling typing_extensions-4.2.0:\n",
            "      Successfully uninstalled typing_extensions-4.2.0\n",
            "  Attempting uninstall: six\n",
            "    Found existing installation: six 1.16.0\n",
            "    Uninstalling six-1.16.0:\n",
            "      Successfully uninstalled six-1.16.0\n",
            "  Attempting uninstall: numpy\n",
            "    Found existing installation: numpy 1.21.6\n",
            "    Uninstalling numpy-1.21.6:\n",
            "      Successfully uninstalled numpy-1.21.6\n",
            "  Attempting uninstall: absl-py\n",
            "    Found existing installation: absl-py 1.0.0\n",
            "    Uninstalling absl-py-1.0.0:\n",
            "      Successfully uninstalled absl-py-1.0.0\n",
            "\u001b[31mERROR: pip's dependency resolver does not currently take into account all the packages that are installed. This behaviour is the source of the following dependency conflicts.\n",
            "tensorflow-io 0.21.0 requires tensorflow-io-gcs-filesystem==0.21.0, which is not installed.\n",
            "dask-cudf 21.10.1 requires cupy-cuda114, which is not installed.\n",
            "beatrix-jupyterlab 3.1.7 requires google-cloud-bigquery-storage, which is not installed.\n",
            "xarray-einstats 0.2.2 requires numpy>=1.21, but you have numpy 1.19.5 which is incompatible.\n",
            "tfx-bsl 1.8.0 requires tensorflow!=2.0.*,!=2.1.*,!=2.2.*,!=2.3.*,!=2.4.*,!=2.5.*,!=2.6.*,!=2.7.*,<3,>=1.15.5, but you have tensorflow 2.6.4 which is incompatible.\n",
            "tensorflow-transform 1.8.0 requires tensorflow!=2.0.*,!=2.1.*,!=2.2.*,!=2.3.*,!=2.4.*,!=2.5.*,!=2.6.*,!=2.7.*,<2.9,>=1.15.5, but you have tensorflow 2.6.4 which is incompatible.\n",
            "tensorflow-serving-api 2.8.0 requires tensorflow<3,>=2.8.0, but you have tensorflow 2.6.4 which is incompatible.\n",
            "rich 12.4.4 requires typing-extensions<5.0,>=4.0.0; python_version < \"3.9\", but you have typing-extensions 3.10.0.2 which is incompatible.\n",
            "pytorch-lightning 1.6.3 requires typing-extensions>=4.0.0, but you have typing-extensions 3.10.0.2 which is incompatible.\n",
            "pytools 2022.1.9 requires typing-extensions>=4.0; python_version < \"3.11\", but you have typing-extensions 3.10.0.2 which is incompatible.\n",
            "pdpbox 0.2.1 requires matplotlib==3.1.1, but you have matplotlib 3.5.2 which is incompatible.\n",
            "grpcio-status 1.46.1 requires grpcio>=1.46.1, but you have grpcio 1.43.0 which is incompatible.\n",
            "google-cloud-aiplatform 0.6.0a1 requires google-cloud-storage<2.0.0dev,>=1.26.0, but you have google-cloud-storage 2.1.0 which is incompatible.\n",
            "gcsfs 2022.3.0 requires fsspec==2022.3.0, but you have fsspec 2022.5.0 which is incompatible.\n",
            "flax 0.5.0 requires typing-extensions>=4.1.1, but you have typing-extensions 3.10.0.2 which is incompatible.\n",
            "flake8 4.0.1 requires importlib-metadata<4.3; python_version < \"3.8\", but you have importlib-metadata 4.11.4 which is incompatible.\n",
            "featuretools 1.9.0 requires numpy>=1.21.0, but you have numpy 1.19.5 which is incompatible.\n",
            "dask-cudf 21.10.1 requires dask==2021.09.1, but you have dask 2022.2.0 which is incompatible.\n",
            "dask-cudf 21.10.1 requires distributed==2021.09.1, but you have distributed 2022.2.0 which is incompatible.\n",
            "apache-beam 2.38.0 requires dill<0.3.2,>=0.3.1.1, but you have dill 0.3.5.1 which is incompatible.\n",
            "apache-beam 2.38.0 requires httplib2<0.20.0,>=0.8, but you have httplib2 0.20.4 which is incompatible.\n",
            "aioitertools 0.10.0 requires typing_extensions>=4.0; python_version < \"3.10\", but you have typing-extensions 3.10.0.2 which is incompatible.\n",
            "aiobotocore 2.3.2 requires botocore<1.24.22,>=1.24.21, but you have botocore 1.26.7 which is incompatible.\u001b[0m\u001b[31m\n",
            "\u001b[0mSuccessfully installed absl-py-0.15.0 numpy-1.19.5 six-1.15.0 typing-extensions-3.10.0.2 wrapt-1.12.1\n",
            "\u001b[33mWARNING: Running pip as the 'root' user can result in broken permissions and conflicting behaviour with the system package manager. It is recommended to use a virtual environment instead: https://pip.pypa.io/warnings/venv\u001b[0m\u001b[33m\n",
            "\u001b[0mRequirement already satisfied: numpy in /opt/conda/lib/python3.7/site-packages (1.19.5)\n",
            "\u001b[33mWARNING: Running pip as the 'root' user can result in broken permissions and conflicting behaviour with the system package manager. It is recommended to use a virtual environment instead: https://pip.pypa.io/warnings/venv\u001b[0m\u001b[33m\n",
            "\u001b[0mRequirement already satisfied: pandas in /opt/conda/lib/python3.7/site-packages (1.3.5)\n",
            "Requirement already satisfied: python-dateutil>=2.7.3 in /opt/conda/lib/python3.7/site-packages (from pandas) (2.8.2)\n",
            "Requirement already satisfied: pytz>=2017.3 in /opt/conda/lib/python3.7/site-packages (from pandas) (2022.1)\n",
            "Requirement already satisfied: numpy>=1.17.3 in /opt/conda/lib/python3.7/site-packages (from pandas) (1.19.5)\n",
            "Requirement already satisfied: six>=1.5 in /opt/conda/lib/python3.7/site-packages (from python-dateutil>=2.7.3->pandas) (1.15.0)\n",
            "\u001b[33mWARNING: Running pip as the 'root' user can result in broken permissions and conflicting behaviour with the system package manager. It is recommended to use a virtual environment instead: https://pip.pypa.io/warnings/venv\u001b[0m\u001b[33m\n",
            "\u001b[0mRequirement already satisfied: seaborn in /opt/conda/lib/python3.7/site-packages (0.11.2)\n",
            "Requirement already satisfied: scipy>=1.0 in /opt/conda/lib/python3.7/site-packages (from seaborn) (1.7.3)\n",
            "Requirement already satisfied: matplotlib>=2.2 in /opt/conda/lib/python3.7/site-packages (from seaborn) (3.5.2)\n",
            "Requirement already satisfied: numpy>=1.15 in /opt/conda/lib/python3.7/site-packages (from seaborn) (1.19.5)\n",
            "Requirement already satisfied: pandas>=0.23 in /opt/conda/lib/python3.7/site-packages (from seaborn) (1.3.5)\n",
            "Requirement already satisfied: cycler>=0.10 in /opt/conda/lib/python3.7/site-packages (from matplotlib>=2.2->seaborn) (0.11.0)\n",
            "Requirement already satisfied: packaging>=20.0 in /opt/conda/lib/python3.7/site-packages (from matplotlib>=2.2->seaborn) (21.3)\n",
            "Requirement already satisfied: pillow>=6.2.0 in /opt/conda/lib/python3.7/site-packages (from matplotlib>=2.2->seaborn) (9.1.0)\n",
            "Requirement already satisfied: pyparsing>=2.2.1 in /opt/conda/lib/python3.7/site-packages (from matplotlib>=2.2->seaborn) (3.0.9)\n",
            "Requirement already satisfied: python-dateutil>=2.7 in /opt/conda/lib/python3.7/site-packages (from matplotlib>=2.2->seaborn) (2.8.2)\n",
            "Requirement already satisfied: kiwisolver>=1.0.1 in /opt/conda/lib/python3.7/site-packages (from matplotlib>=2.2->seaborn) (1.4.2)\n",
            "Requirement already satisfied: fonttools>=4.22.0 in /opt/conda/lib/python3.7/site-packages (from matplotlib>=2.2->seaborn) (4.33.3)\n",
            "Requirement already satisfied: pytz>=2017.3 in /opt/conda/lib/python3.7/site-packages (from pandas>=0.23->seaborn) (2022.1)\n",
            "Requirement already satisfied: typing-extensions in /opt/conda/lib/python3.7/site-packages (from kiwisolver>=1.0.1->matplotlib>=2.2->seaborn) (3.10.0.2)\n",
            "Requirement already satisfied: six>=1.5 in /opt/conda/lib/python3.7/site-packages (from python-dateutil>=2.7->matplotlib>=2.2->seaborn) (1.15.0)\n",
            "\u001b[33mWARNING: Running pip as the 'root' user can result in broken permissions and conflicting behaviour with the system package manager. It is recommended to use a virtual environment instead: https://pip.pypa.io/warnings/venv\u001b[0m\u001b[33m\n",
            "\u001b[0mRequirement already satisfied: matplotlib in /opt/conda/lib/python3.7/site-packages (3.5.2)\n",
            "Requirement already satisfied: python-dateutil>=2.7 in /opt/conda/lib/python3.7/site-packages (from matplotlib) (2.8.2)\n",
            "Requirement already satisfied: fonttools>=4.22.0 in /opt/conda/lib/python3.7/site-packages (from matplotlib) (4.33.3)\n",
            "Requirement already satisfied: packaging>=20.0 in /opt/conda/lib/python3.7/site-packages (from matplotlib) (21.3)\n",
            "Requirement already satisfied: kiwisolver>=1.0.1 in /opt/conda/lib/python3.7/site-packages (from matplotlib) (1.4.2)\n",
            "Requirement already satisfied: cycler>=0.10 in /opt/conda/lib/python3.7/site-packages (from matplotlib) (0.11.0)\n",
            "Requirement already satisfied: pillow>=6.2.0 in /opt/conda/lib/python3.7/site-packages (from matplotlib) (9.1.0)\n",
            "Requirement already satisfied: numpy>=1.17 in /opt/conda/lib/python3.7/site-packages (from matplotlib) (1.19.5)\n",
            "Requirement already satisfied: pyparsing>=2.2.1 in /opt/conda/lib/python3.7/site-packages (from matplotlib) (3.0.9)\n",
            "Requirement already satisfied: typing-extensions in /opt/conda/lib/python3.7/site-packages (from kiwisolver>=1.0.1->matplotlib) (3.10.0.2)\n",
            "Requirement already satisfied: six>=1.5 in /opt/conda/lib/python3.7/site-packages (from python-dateutil>=2.7->matplotlib) (1.15.0)\n",
            "\u001b[33mWARNING: Running pip as the 'root' user can result in broken permissions and conflicting behaviour with the system package manager. It is recommended to use a virtual environment instead: https://pip.pypa.io/warnings/venv\u001b[0m\u001b[33m\n",
            "\u001b[0mRequirement already satisfied: opencv-python in /opt/conda/lib/python3.7/site-packages (4.5.4.60)\n",
            "Requirement already satisfied: numpy>=1.14.5 in /opt/conda/lib/python3.7/site-packages (from opencv-python) (1.19.5)\n",
            "\u001b[33mWARNING: Running pip as the 'root' user can result in broken permissions and conflicting behaviour with the system package manager. It is recommended to use a virtual environment instead: https://pip.pypa.io/warnings/venv\u001b[0m\u001b[33m\n",
            "\u001b[0mRequirement already satisfied: pillow in /opt/conda/lib/python3.7/site-packages (9.1.0)\n",
            "\u001b[33mWARNING: Running pip as the 'root' user can result in broken permissions and conflicting behaviour with the system package manager. It is recommended to use a virtual environment instead: https://pip.pypa.io/warnings/venv\u001b[0m\u001b[33m\n",
            "\u001b[0mRequirement already satisfied: tqdm in /opt/conda/lib/python3.7/site-packages (4.64.0)\n",
            "\u001b[33mWARNING: Running pip as the 'root' user can result in broken permissions and conflicting behaviour with the system package manager. It is recommended to use a virtual environment instead: https://pip.pypa.io/warnings/venv\u001b[0m\u001b[33m\n",
            "\u001b[0mRequirement already satisfied: scikit-learn in /opt/conda/lib/python3.7/site-packages (1.0.2)\n",
            "Requirement already satisfied: numpy>=1.14.6 in /opt/conda/lib/python3.7/site-packages (from scikit-learn) (1.19.5)\n",
            "Requirement already satisfied: threadpoolctl>=2.0.0 in /opt/conda/lib/python3.7/site-packages (from scikit-learn) (3.1.0)\n",
            "Requirement already satisfied: scipy>=1.1.0 in /opt/conda/lib/python3.7/site-packages (from scikit-learn) (1.7.3)\n",
            "Requirement already satisfied: joblib>=0.11 in /opt/conda/lib/python3.7/site-packages (from scikit-learn) (1.1.0)\n",
            "\u001b[33mWARNING: Running pip as the 'root' user can result in broken permissions and conflicting behaviour with the system package manager. It is recommended to use a virtual environment instead: https://pip.pypa.io/warnings/venv\u001b[0m\u001b[33m\n",
            "\u001b[0mRequirement already satisfied: rasterio in /opt/conda/lib/python3.7/site-packages (1.2.10)\n",
            "Requirement already satisfied: setuptools in /opt/conda/lib/python3.7/site-packages (from rasterio) (59.8.0)\n",
            "Requirement already satisfied: numpy in /opt/conda/lib/python3.7/site-packages (from rasterio) (1.19.5)\n",
            "Requirement already satisfied: certifi in /opt/conda/lib/python3.7/site-packages (from rasterio) (2022.5.18.1)\n",
            "Requirement already satisfied: cligj>=0.5 in /opt/conda/lib/python3.7/site-packages (from rasterio) (0.7.2)\n",
            "Requirement already satisfied: affine in /opt/conda/lib/python3.7/site-packages (from rasterio) (2.3.1)\n",
            "Requirement already satisfied: click-plugins in /opt/conda/lib/python3.7/site-packages (from rasterio) (1.1.1)\n",
            "Requirement already satisfied: attrs in /opt/conda/lib/python3.7/site-packages (from rasterio) (21.4.0)\n",
            "Requirement already satisfied: click>=4.0 in /opt/conda/lib/python3.7/site-packages (from rasterio) (8.0.4)\n",
            "Requirement already satisfied: snuggs>=1.4.1 in /opt/conda/lib/python3.7/site-packages (from rasterio) (1.4.7)\n",
            "Requirement already satisfied: importlib-metadata in /opt/conda/lib/python3.7/site-packages (from click>=4.0->rasterio) (4.11.4)\n",
            "Requirement already satisfied: pyparsing>=2.1.6 in /opt/conda/lib/python3.7/site-packages (from snuggs>=1.4.1->rasterio) (3.0.9)\n",
            "Requirement already satisfied: typing-extensions>=3.6.4 in /opt/conda/lib/python3.7/site-packages (from importlib-metadata->click>=4.0->rasterio) (3.10.0.2)\n",
            "Requirement already satisfied: zipp>=0.5 in /opt/conda/lib/python3.7/site-packages (from importlib-metadata->click>=4.0->rasterio) (3.8.0)\n",
            "\u001b[33mWARNING: Running pip as the 'root' user can result in broken permissions and conflicting behaviour with the system package manager. It is recommended to use a virtual environment instead: https://pip.pypa.io/warnings/venv\u001b[0m\u001b[33m\n",
            "\u001b[0mRequirement already satisfied: ipython in /opt/conda/lib/python3.7/site-packages (7.33.0)\n",
            "Requirement already satisfied: traitlets>=4.2 in /opt/conda/lib/python3.7/site-packages (from ipython) (5.2.0)\n",
            "Requirement already satisfied: setuptools>=18.5 in /opt/conda/lib/python3.7/site-packages (from ipython) (59.8.0)\n",
            "Requirement already satisfied: prompt-toolkit!=3.0.0,!=3.0.1,<3.1.0,>=2.0.0 in /opt/conda/lib/python3.7/site-packages (from ipython) (3.0.29)\n",
            "Requirement already satisfied: pickleshare in /opt/conda/lib/python3.7/site-packages (from ipython) (0.7.5)\n",
            "Requirement already satisfied: backcall in /opt/conda/lib/python3.7/site-packages (from ipython) (0.2.0)\n",
            "Requirement already satisfied: pexpect>4.3 in /opt/conda/lib/python3.7/site-packages (from ipython) (4.8.0)\n",
            "Requirement already satisfied: decorator in /opt/conda/lib/python3.7/site-packages (from ipython) (5.1.1)\n",
            "Requirement already satisfied: matplotlib-inline in /opt/conda/lib/python3.7/site-packages (from ipython) (0.1.3)\n",
            "Requirement already satisfied: pygments in /opt/conda/lib/python3.7/site-packages (from ipython) (2.12.0)\n",
            "Requirement already satisfied: jedi>=0.16 in /opt/conda/lib/python3.7/site-packages (from ipython) (0.18.1)\n",
            "Requirement already satisfied: parso<0.9.0,>=0.8.0 in /opt/conda/lib/python3.7/site-packages (from jedi>=0.16->ipython) (0.8.3)\n",
            "Requirement already satisfied: ptyprocess>=0.5 in /opt/conda/lib/python3.7/site-packages (from pexpect>4.3->ipython) (0.7.0)\n",
            "Requirement already satisfied: wcwidth in /opt/conda/lib/python3.7/site-packages (from prompt-toolkit!=3.0.0,!=3.0.1,<3.1.0,>=2.0.0->ipython) (0.2.5)\n",
            "\u001b[33mWARNING: Running pip as the 'root' user can result in broken permissions and conflicting behaviour with the system package manager. It is recommended to use a virtual environment instead: https://pip.pypa.io/warnings/venv\u001b[0m\u001b[33m\n",
            "\u001b[0m"
          ]
        }
      ],
      "source": [
        "!pip install tensorflow\n",
        "!pip install numpy\n",
        "!pip install pandas\n",
        "!pip install seaborn\n",
        "!pip install matplotlib\n",
        "!pip install opencv-python\n",
        "!pip install pillow\n",
        "!pip install tqdm\n",
        "!pip install scikit-learn\n",
        "!pip install rasterio\n",
        "!pip install ipython"
      ]
    },
    {
      "cell_type": "code",
      "execution_count": null,
      "metadata": {
        "_kg_hide-input": true,
        "execution": {
          "iopub.execute_input": "2025-10-05T07:47:14.580540Z",
          "iopub.status.busy": "2025-10-05T07:47:14.580234Z",
          "iopub.status.idle": "2025-10-05T07:47:19.927343Z",
          "shell.execute_reply": "2025-10-05T07:47:19.926736Z",
          "shell.execute_reply.started": "2025-10-05T07:47:14.580512Z"
        },
        "id": "wbNMQFCu7Hzd",
        "trusted": true
      },
      "outputs": [],
      "source": [
        "import json\n",
        "import tensorflow as tf\n",
        "import tensorflow.keras.backend as K\n",
        "import numpy as np\n",
        "import pandas as pd\n",
        "import seaborn as sns\n",
        "import os\n",
        "import gc\n",
        "import rasterio as rio\n",
        "from PIL import Image\n",
        "import matplotlib.pyplot as plt\n",
        "from matplotlib import  cm\n",
        "import cv2\n",
        "from matplotlib import animation\n",
        "from IPython.display import HTML\n",
        "from tqdm import tqdm\n",
        "from sklearn.model_selection import train_test_split"
      ]
    },
    {
      "cell_type": "markdown",
      "metadata": {
        "id": "mTNEXWri7Hzd"
      },
      "source": [
        "### Configuration Class"
      ]
    },
    {
      "cell_type": "code",
      "execution_count": null,
      "metadata": {
        "execution": {
          "iopub.execute_input": "2025-10-05T07:47:19.928839Z",
          "iopub.status.busy": "2025-10-05T07:47:19.928330Z",
          "iopub.status.idle": "2025-10-05T07:47:19.934586Z",
          "shell.execute_reply": "2025-10-05T07:47:19.933860Z",
          "shell.execute_reply.started": "2025-10-05T07:47:19.928812Z"
        },
        "id": "pYxir7pV7Hzd",
        "trusted": true
      },
      "outputs": [],
      "source": [
        "class CFG:\n",
        "    seed = 7\n",
        "    img_size = (256, 256)  # resize images to this size\n",
        "    BATCH_SIZE = 3\n",
        "    Autotune = tf.data.AUTOTUNE\n",
        "    validation_size = 0.2  # fraction of data for validation\n",
        "    class_dict = {0: 'No Flooding', 1: 'Flooding'}\n",
        "    test_run = False  # if True, run a small test"
      ]
    },
    {
      "cell_type": "markdown",
      "metadata": {
        "id": "7tN4-U3n7Hzd"
      },
      "source": [
        "### Dataset Paths and Integrity Check"
      ]
    },
    {
      "cell_type": "code",
      "execution_count": null,
      "metadata": {
        "_kg_hide-input": true,
        "execution": {
          "iopub.execute_input": "2025-10-05T07:47:19.935725Z",
          "iopub.status.busy": "2025-10-05T07:47:19.935466Z",
          "iopub.status.idle": "2025-10-05T07:47:29.005167Z",
          "shell.execute_reply": "2025-10-05T07:47:29.004383Z",
          "shell.execute_reply.started": "2025-10-05T07:47:19.935702Z"
        },
        "id": "BKMD3XdY7Hze",
        "outputId": "ed896857-14a0-4af7-bd59-d4e812337b47",
        "trusted": true
      },
      "outputs": [
        {
          "data": {
            "text/plain": [
              "(3332, 2237)"
            ]
          },
          "execution_count": 4,
          "metadata": {},
          "output_type": "execute_result"
        }
      ],
      "source": [
        "# Paths for Sentinel-1 and Sentinel-2 data\n",
        "s1_labels = '../input/sen12flood/sen12flood/sen12floods_s1_labels/sen12floods_s1_labels/'\n",
        "s1_tiles = '../input/sen12flood/sen12flood/sen12floods_s1_source/sen12floods_s1_source/'\n",
        "\n",
        "s2_tiles = '../input/sen12flood/sen12flood/sen12floods_s2_source/sen12floods_s2_source/'\n",
        "s2_labels = '../input/sen12flood/sen12flood/sen12floods_s2_labels/sen12floods_s2_labels/'\n",
        "\n",
        "# Check if all S1 label files have corresponding source files\n",
        "s1_check = 0\n",
        "for file in os.listdir(s1_labels):\n",
        "    if os.path.exists(s1_tiles + '/' + file.replace('labels','source')):\n",
        "        s1_check += 1\n",
        "\n",
        "assert s1_check == len(os.listdir(s1_tiles)), 'Mismatch between S1 labels and source files!'\n",
        "\n",
        "# Check if all S2 label files have corresponding source files\n",
        "s2_check = 0\n",
        "for file in os.listdir(s2_labels):\n",
        "    if os.path.exists(s2_tiles + '/' + file.replace('labels','source')):\n",
        "        s2_check += 1\n",
        "\n",
        "assert s2_check == len(os.listdir(s2_tiles)), 'Mismatch between S2 labels and source files!'\n",
        "\n",
        "s1_check, s2_check  # print counts to verify"
      ]
    },
    {
      "cell_type": "markdown",
      "metadata": {
        "id": "-AQbQe9z7Hze"
      },
      "source": [
        "### JSON Loader Function"
      ]
    },
    {
      "cell_type": "code",
      "execution_count": null,
      "metadata": {
        "_kg_hide-input": true,
        "execution": {
          "iopub.execute_input": "2025-10-05T07:47:29.006909Z",
          "iopub.status.busy": "2025-10-05T07:47:29.006277Z",
          "iopub.status.idle": "2025-10-05T07:47:29.011637Z",
          "shell.execute_reply": "2025-10-05T07:47:29.010823Z",
          "shell.execute_reply.started": "2025-10-05T07:47:29.006873Z"
        },
        "id": "fjYbvcuG7Hze",
        "trusted": true
      },
      "outputs": [],
      "source": [
        "def load_json(path):\n",
        "    '''Load a JSON file from the given path'''\n",
        "    with open(path, 'r') as file:\n",
        "        js = json.load(file)  # read and parse JSON file\n",
        "\n",
        "    return js  # return the parsed JSON data"
      ]
    },
    {
      "cell_type": "markdown",
      "metadata": {
        "id": "h8ncmKvl7Hze"
      },
      "source": [
        "### JSON Processing Functions"
      ]
    },
    {
      "cell_type": "code",
      "execution_count": null,
      "metadata": {
        "_kg_hide-input": true,
        "execution": {
          "iopub.execute_input": "2025-10-05T07:47:29.012940Z",
          "iopub.status.busy": "2025-10-05T07:47:29.012670Z",
          "iopub.status.idle": "2025-10-05T07:47:29.026522Z",
          "shell.execute_reply": "2025-10-05T07:47:29.025839Z",
          "shell.execute_reply.started": "2025-10-05T07:47:29.012918Z"
        },
        "id": "D8x2fZmQ7Hze",
        "trusted": true
      },
      "outputs": [],
      "source": [
        "# Process a single label json\n",
        "def process_label_json(label_json):\n",
        "    info_dict = {}\n",
        "\n",
        "    info_dict['geometry'] = label_json['geometry']['coordinates']\n",
        "    info_dict['label'] = label_json['properties']['FLOODING']\n",
        "    info_dict['date'] = label_json['properties']['date']\n",
        "    info_dict['tile_number'] = label_json['properties']['tile']\n",
        "\n",
        "    return info_dict\n",
        "\n",
        "\n",
        "def process_label_stac(stac_json):\n",
        "    return stac_json['id']\n",
        "\n",
        "\n",
        "\n",
        "def image_path_from_label_dir(image_parent_dir:str,\n",
        "                              label_file :str)->str:\n",
        "\n",
        "    return image_parent_dir + '/' + label_file.replace('labels','source')\n",
        "\n",
        "\n",
        "\n",
        "def process_json(label_path,image_directory):\n",
        "\n",
        "\n",
        "    # Get image directory for that label\n",
        "    folder_id = label_path.rsplit('/',1)[1]\n",
        "    image_dir_path = image_path_from_label_dir(image_directory,folder_id)\n",
        "\n",
        "    if not os.path.exists(image_dir_path):\n",
        "        return {'File_not_found':image_dir_path}\n",
        "\n",
        "\n",
        "    for file in os.listdir(label_path):\n",
        "        # If image dir exists\n",
        "        if file.startswith('labels'):\n",
        "            label_json = load_json(os.path.join(label_path,file))\n",
        "        else:\n",
        "            stac_json = load_json(os.path.join(label_path,file))\n",
        "\n",
        "\n",
        "    # Get data\n",
        "    info_dict = process_label_json(label_json)\n",
        "\n",
        "    # Get id\n",
        "    info_dict['id'] = process_label_stac(stac_json)\n",
        "\n",
        "    # Location id\n",
        "    info_dict['location_id'] = info_dict['id'].split('_')[3]\n",
        "\n",
        "\n",
        "    info_dict['image_dir'] = image_dir_path\n",
        "\n",
        "\n",
        "    return info_dict"
      ]
    },
    {
      "cell_type": "markdown",
      "metadata": {
        "id": "A7WkZKEa7Hze"
      },
      "source": [
        "### Creating and Processing Dataset DataFrame"
      ]
    },
    {
      "cell_type": "code",
      "execution_count": null,
      "metadata": {
        "_kg_hide-input": true,
        "execution": {
          "iopub.execute_input": "2025-10-05T07:47:29.028625Z",
          "iopub.status.busy": "2025-10-05T07:47:29.028346Z",
          "iopub.status.idle": "2025-10-05T07:47:29.041838Z",
          "shell.execute_reply": "2025-10-05T07:47:29.041189Z",
          "shell.execute_reply.started": "2025-10-05T07:47:29.028592Z"
        },
        "id": "afeUbNXZ7Hze",
        "trusted": true
      },
      "outputs": [],
      "source": [
        "# Get dataframe from the nested label directory\n",
        "def get_dataframe(label_directory,image_directory):\n",
        "    records = []\n",
        "\n",
        "\n",
        "    for folder in os.listdir(label_directory):\n",
        "        if folder.startswith('sen12'):\n",
        "        # Print folder and label_directory\n",
        "            folder_path = label_directory + '/' + folder\n",
        "\n",
        "\n",
        "            # Get data for a single example\n",
        "            feature = process_json(label_path=folder_path,\n",
        "                                   image_directory=image_directory)\n",
        "\n",
        "\n",
        "            records.append(feature)\n",
        "\n",
        "\n",
        "    return pd.DataFrame.from_records(data = records)\n",
        "\n",
        "\n",
        "# Typecasting columns in dataset\n",
        "def type_cast_dataset(dataset):\n",
        "    dataset['label'] = dataset['label'].astype(int)\n",
        "\n",
        "    dataset['date'] = pd.to_datetime(dataset['date'])\n",
        "    dataset['tile_number'] = dataset['tile_number'].astype('int8')\n",
        "\n",
        "\n",
        "    return dataset"
      ]
    },
    {
      "cell_type": "markdown",
      "metadata": {
        "id": "hmdZ92Xi7Hze"
      },
      "source": [
        "### Creating and Inspecting Sentinel DataFrames"
      ]
    },
    {
      "cell_type": "code",
      "execution_count": null,
      "metadata": {
        "_kg_hide-input": true,
        "execution": {
          "iopub.execute_input": "2025-10-05T07:47:29.043169Z",
          "iopub.status.busy": "2025-10-05T07:47:29.042834Z",
          "iopub.status.idle": "2025-10-05T07:48:43.436112Z",
          "shell.execute_reply": "2025-10-05T07:48:43.435299Z",
          "shell.execute_reply.started": "2025-10-05T07:47:29.043137Z"
        },
        "id": "UbQUWEco7Hzf",
        "outputId": "50518e1d-2b9b-4c46-d2c1-a06f012ce983",
        "trusted": true
      },
      "outputs": [
        {
          "name": "stdout",
          "output_type": "stream",
          "text": [
            "Number of unique locations in Sentinel1 (SAR) data: 335\n",
            "Number of unique locations in Sentinel2 (optical) data: 335\n",
            "CPU times: user 1.18 s, sys: 1.59 s, total: 2.77 s\n",
            "Wall time: 1min 14s\n"
          ]
        },
        {
          "data": {
            "text/plain": [
              "((3331, 7), (2236, 7))"
            ]
          },
          "execution_count": 8,
          "metadata": {},
          "output_type": "execute_result"
        }
      ],
      "source": [
        "%%time\n",
        "# Prepare Sentinel-1 dataset\n",
        "s1_data = type_cast_dataset(\n",
        "    get_dataframe(\n",
        "        label_directory=s1_labels,\n",
        "        image_directory=s1_tiles\n",
        "    )\n",
        ")\n",
        "\n",
        "# Prepare Sentinel-2 dataset\n",
        "s2_data = type_cast_dataset(\n",
        "    get_dataframe(\n",
        "        label_directory=s2_labels,\n",
        "        image_directory=s2_tiles\n",
        "    )\n",
        ")\n",
        "\n",
        "# Print number of unique locations in each dataset\n",
        "print(f'Number of unique locations in Sentinel1 (SAR) data: {s1_data.location_id.nunique()}')\n",
        "print(f'Number of unique locations in Sentinel2 (optical) data: {s2_data.location_id.nunique()}')\n",
        "\n",
        "# Show dataset shapes\n",
        "s1_data.shape, s2_data.shape"
      ]
    },
    {
      "cell_type": "markdown",
      "metadata": {
        "id": "HSsHvp627Hzf"
      },
      "source": [
        "### Saving DataFrames to CSV"
      ]
    },
    {
      "cell_type": "code",
      "execution_count": null,
      "metadata": {
        "execution": {
          "iopub.execute_input": "2025-10-05T07:48:43.437686Z",
          "iopub.status.busy": "2025-10-05T07:48:43.437309Z",
          "iopub.status.idle": "2025-10-05T07:48:43.536720Z",
          "shell.execute_reply": "2025-10-05T07:48:43.535994Z",
          "shell.execute_reply.started": "2025-10-05T07:48:43.437657Z"
        },
        "id": "Yi0mE2Wb7Hzf",
        "trusted": true
      },
      "outputs": [],
      "source": [
        "# Saving datasets\n",
        "s1_data.to_csv('s1_data.csv',index=False)\n",
        "s2_data.to_csv('s2_data.csv',index=False)"
      ]
    },
    {
      "cell_type": "markdown",
      "metadata": {
        "id": "rmgjwXLp7Hzf"
      },
      "source": [
        "### Raster Loading Function"
      ]
    },
    {
      "cell_type": "code",
      "execution_count": null,
      "metadata": {
        "_kg_hide-input": true,
        "execution": {
          "iopub.execute_input": "2025-10-05T07:48:43.538091Z",
          "iopub.status.busy": "2025-10-05T07:48:43.537731Z",
          "iopub.status.idle": "2025-10-05T07:48:43.542688Z",
          "shell.execute_reply": "2025-10-05T07:48:43.541874Z",
          "shell.execute_reply.started": "2025-10-05T07:48:43.538055Z"
        },
        "id": "4-3980Lh7Hzf",
        "trusted": true
      },
      "outputs": [],
      "source": [
        "def load_raster(filepath):\n",
        "    '''Load a single-band raster file'''\n",
        "    with rio.open(filepath) as file:\n",
        "        raster = file.read().squeeze(axis=0)  # read first band and remove extra dimension\n",
        "\n",
        "    return raster"
      ]
    },
    {
      "cell_type": "markdown",
      "metadata": {
        "id": "34bZFNHu7Hzf"
      },
      "source": [
        "### Loading and Preprocessing Sentinel TIFF Images"
      ]
    },
    {
      "cell_type": "code",
      "execution_count": null,
      "metadata": {
        "_kg_hide-input": true,
        "execution": {
          "iopub.execute_input": "2025-10-05T07:48:43.544028Z",
          "iopub.status.busy": "2025-10-05T07:48:43.543694Z",
          "iopub.status.idle": "2025-10-05T07:48:43.557927Z",
          "shell.execute_reply": "2025-10-05T07:48:43.557258Z",
          "shell.execute_reply.started": "2025-10-05T07:48:43.543994Z"
        },
        "id": "KHhM_vBW7Hzf",
        "trusted": true
      },
      "outputs": [],
      "source": [
        "def load_s1_tiffs(folder, scaling_values=[50., 100.]):\n",
        "    images = []\n",
        "    i = 0\n",
        "    for im in sorted(os.listdir(folder)):\n",
        "        if im.rsplit('.', maxsplit=1)[1] == 'tif':  # process only .tif files\n",
        "            path = folder + '/' + im\n",
        "            band = load_raster(path)\n",
        "            band = band / scaling_values[i]  # scale band values\n",
        "            band = cv2.resize(band, CFG.img_size)  # resize to target size\n",
        "            images.append(band)\n",
        "            i += 1\n",
        "    return np.dstack(images)\n",
        "\n",
        "\n",
        "def load_s2_tiffs(folder, scaling_value=10000.):\n",
        "    images = []\n",
        "    for im in sorted(os.listdir(folder)):\n",
        "        if im.rsplit('.', maxsplit=1)[1] == 'tif':\n",
        "            path = folder + '/' + im\n",
        "            band = load_raster(path)\n",
        "            band = band / scaling_value  # scale band values\n",
        "            band = cv2.resize(band, CFG.img_size)\n",
        "            images.append(band)\n",
        "    return np.dstack(images)\n",
        "\n",
        "\n",
        "# Load R, G, B bands\n",
        "def load_rgb_tiffs(folder, scaling_value=10000.):\n",
        "    images = []\n",
        "    for im in sorted(os.listdir(folder)):\n",
        "        name, file_format = im.rsplit('.', maxsplit=1)\n",
        "        if file_format == 'tif' and name in ['B02', 'B03', 'B04']:\n",
        "            path = folder + '/' + im\n",
        "            band = load_raster(path)\n",
        "            band = band / scaling_value\n",
        "            band = cv2.resize(band, CFG.img_size)\n",
        "            images.append(band)\n",
        "    return np.dstack(images)[:, :, ::-1]  # convert to RGB order\n",
        "\n",
        "\n",
        "# TensorFlow wrappers to use in tf.data pipelines\n",
        "def tf_load_s1(path):\n",
        "    path = path.numpy().decode('utf-8')\n",
        "    return load_s1_tiffs(path)\n",
        "\n",
        "\n",
        "def tf_load_s2(path):\n",
        "    path = path.numpy().decode('utf-8')\n",
        "    return load_s2_tiffs(path)\n",
        "\n",
        "\n",
        "def tf_load_rgb(path):\n",
        "    path = path.numpy().decode('utf-8')\n",
        "    return load_rgb_tiffs(path)\n",
        "\n",
        "\n",
        "# Preprocess S1 image for tf.data pipeline\n",
        "def process_image_s1(filename):\n",
        "    return tf.py_function(tf_load_s1, [filename], tf.float32)\n",
        "\n",
        "\n",
        "# Preprocess S2 image for tf.data pipeline\n",
        "def process_image_s2(filename):\n",
        "    return tf.py_function(tf_load_s2, [filename], tf.float32)\n",
        "\n",
        "\n",
        "# Preprocess RGB image for tf.data pipeline\n",
        "def process_image_rgb(filename):\n",
        "    return tf.py_function(tf_load_rgb, [filename], tf.float32)"
      ]
    },
    {
      "cell_type": "markdown",
      "metadata": {
        "id": "qN5iw0qr7Hzf"
      },
      "source": [
        "### Counting and Filtering Sentinel-2 Rasters"
      ]
    },
    {
      "cell_type": "code",
      "execution_count": null,
      "metadata": {
        "_kg_hide-input": true,
        "execution": {
          "iopub.execute_input": "2025-10-05T07:48:43.558938Z",
          "iopub.status.busy": "2025-10-05T07:48:43.558677Z",
          "iopub.status.idle": "2025-10-05T07:48:53.393003Z",
          "shell.execute_reply": "2025-10-05T07:48:53.392145Z",
          "shell.execute_reply.started": "2025-10-05T07:48:43.558917Z"
        },
        "id": "6EeHKcPh7Hzf",
        "trusted": true
      },
      "outputs": [],
      "source": [
        "def count_rasters_in_folder(path):\n",
        "    count = 0\n",
        "\n",
        "    for file in os.listdir(path):\n",
        "        if file.rsplit('.',1)[1] == 'tif':\n",
        "            count +=1\n",
        "\n",
        "    return count\n",
        "\n",
        "\n",
        "s2_data['raster_count'] = s2_data.image_dir.apply(lambda x : count_rasters_in_folder(x))\n",
        "\n",
        "# Value counts\n",
        "s2_data['raster_count'].value_counts()\n",
        "\n",
        "\n",
        "s2_data=s2_data[s2_data['raster_count']==12] # Take only valid rasters"
      ]
    },
    {
      "cell_type": "markdown",
      "metadata": {
        "id": "CS_O2_tL7Hzf"
      },
      "source": [
        "### Isolating Single-Example Locations"
      ]
    },
    {
      "cell_type": "code",
      "execution_count": null,
      "metadata": {
        "execution": {
          "iopub.execute_input": "2025-10-05T07:48:53.394690Z",
          "iopub.status.busy": "2025-10-05T07:48:53.394085Z",
          "iopub.status.idle": "2025-10-05T07:48:53.405836Z",
          "shell.execute_reply": "2025-10-05T07:48:53.405097Z",
          "shell.execute_reply.started": "2025-10-05T07:48:53.394660Z"
        },
        "id": "2mI6fkWk7Hzf",
        "outputId": "4459bf1d-62db-41cf-a175-1301690b05d7",
        "trusted": true
      },
      "outputs": [
        {
          "data": {
            "text/plain": [
              "((2126, 8), (12, 8))"
            ]
          },
          "execution_count": 13,
          "metadata": {},
          "output_type": "execute_result"
        }
      ],
      "source": [
        "# Isolating single loaction ids because they will be a problem for stratification\n",
        "\n",
        "single_index = s2_data['location_id'].value_counts()[s2_data['location_id'].value_counts()==1].index\n",
        "\n",
        "single_index_df = s2_data[s2_data['location_id'].isin(single_index)].reset_index(drop=True)\n",
        "s2_data0 = s2_data[~(s2_data['location_id'].isin(single_index))].reset_index(drop=True)\n",
        "\n",
        "s2_data0.shape,single_index_df.shape"
      ]
    },
    {
      "cell_type": "markdown",
      "metadata": {
        "id": "2woJCLjp7Hzg"
      },
      "source": [
        "### Train-Validation Split"
      ]
    },
    {
      "cell_type": "code",
      "execution_count": null,
      "metadata": {
        "_kg_hide-input": true,
        "execution": {
          "iopub.execute_input": "2025-10-05T07:48:53.406981Z",
          "iopub.status.busy": "2025-10-05T07:48:53.406624Z",
          "iopub.status.idle": "2025-10-05T07:48:53.608263Z",
          "shell.execute_reply": "2025-10-05T07:48:53.607509Z",
          "shell.execute_reply.started": "2025-10-05T07:48:53.406942Z"
        },
        "id": "XO5pKf_R7Hzg",
        "outputId": "c947af60-3d17-456e-da03-86680362ad0c",
        "trusted": true
      },
      "outputs": [
        {
          "data": {
            "text/plain": [
              "0"
            ]
          },
          "execution_count": 14,
          "metadata": {},
          "output_type": "execute_result"
        }
      ],
      "source": [
        "# Train-validation split for Sentinel-1 data\n",
        "s1_data_tr, s1_data_val = train_test_split(\n",
        "    s1_data,\n",
        "    test_size=CFG.validation_size,\n",
        "    random_state=CFG.seed,\n",
        "    stratify=s1_data.location_id\n",
        ")\n",
        "\n",
        "# Train-validation split for Sentinel-2 data\n",
        "s2_data_tr, s2_data_val = train_test_split(\n",
        "    s2_data0,\n",
        "    test_size=CFG.validation_size,\n",
        "    random_state=CFG.seed,\n",
        "    stratify=s2_data0.location_id\n",
        ")\n",
        "\n",
        "# Add single_index_df to the training set\n",
        "s2_data_tr = s2_data_tr.append(single_index_df, ignore_index=True)\n",
        "\n",
        "# Clean up memory\n",
        "del s2_data0;gc.collect()"
      ]
    },
    {
      "cell_type": "markdown",
      "metadata": {
        "id": "iuaG3DDK7Hzg"
      },
      "source": [
        "### Inspect Label Distribution"
      ]
    },
    {
      "cell_type": "code",
      "execution_count": null,
      "metadata": {
        "_kg_hide-input": true,
        "execution": {
          "iopub.execute_input": "2025-10-05T07:48:53.609334Z",
          "iopub.status.busy": "2025-10-05T07:48:53.609099Z",
          "iopub.status.idle": "2025-10-05T07:48:53.617475Z",
          "shell.execute_reply": "2025-10-05T07:48:53.616749Z",
          "shell.execute_reply.started": "2025-10-05T07:48:53.609313Z"
        },
        "id": "Vj5tF4jB7Hzg",
        "outputId": "369c233e-e599-4cd2-ed5e-1c383c6b09f0",
        "trusted": true
      },
      "outputs": [
        {
          "data": {
            "text/plain": [
              "(0    0.69482\n",
              " 1    0.30518\n",
              " Name: label, dtype: float64,\n",
              " 0    0.673163\n",
              " 1    0.326837\n",
              " Name: label, dtype: float64)"
            ]
          },
          "execution_count": 15,
          "metadata": {},
          "output_type": "execute_result"
        }
      ],
      "source": [
        "s1_data_tr.label.value_counts(1),s1_data_val.label.value_counts(1)"
      ]
    },
    {
      "cell_type": "code",
      "execution_count": null,
      "metadata": {
        "_kg_hide-input": true,
        "execution": {
          "iopub.execute_input": "2025-10-05T07:48:53.618872Z",
          "iopub.status.busy": "2025-10-05T07:48:53.618513Z",
          "iopub.status.idle": "2025-10-05T07:48:53.629306Z",
          "shell.execute_reply": "2025-10-05T07:48:53.628631Z",
          "shell.execute_reply.started": "2025-10-05T07:48:53.618840Z"
        },
        "id": "Yp2GQII87Hzg",
        "outputId": "ddbc6124-3545-44ed-c8c8-0a5ab977dbfb",
        "trusted": true
      },
      "outputs": [
        {
          "data": {
            "text/plain": [
              "(0    0.773364\n",
              " 1    0.226636\n",
              " Name: label, dtype: float64,\n",
              " 0    0.725352\n",
              " 1    0.274648\n",
              " Name: label, dtype: float64)"
            ]
          },
          "execution_count": 16,
          "metadata": {},
          "output_type": "execute_result"
        }
      ],
      "source": [
        "s2_data_tr.label.value_counts(1),s2_data_val.label.value_counts(1)"
      ]
    },
    {
      "cell_type": "markdown",
      "metadata": {
        "id": "fg1movKD7Hzg"
      },
      "source": [
        "### Image Augmentation Functions"
      ]
    },
    {
      "cell_type": "code",
      "execution_count": null,
      "metadata": {
        "execution": {
          "iopub.execute_input": "2025-10-05T07:48:53.630401Z",
          "iopub.status.busy": "2025-10-05T07:48:53.630146Z",
          "iopub.status.idle": "2025-10-05T07:48:53.639460Z",
          "shell.execute_reply": "2025-10-05T07:48:53.638816Z",
          "shell.execute_reply.started": "2025-10-05T07:48:53.630378Z"
        },
        "id": "EfI3i7kb7Hzg",
        "trusted": true
      },
      "outputs": [],
      "source": [
        " # Simple augmentation for multispectral images\n",
        "def augment_image_multispectral(image):\n",
        "    image = tf.image.random_flip_left_right(image)  # horizontal flip\n",
        "    image = tf.image.random_flip_up_down(image)     # vertical flip\n",
        "    image = tf.image.random_crop(image, size=(*CFG.img_size, 12))\n",
        "\n",
        "    rot = tf.random.normal((1,), mean=0.35, stddev=0.15)\n",
        "    if rot > 0.5:\n",
        "        image = tf.image.rot90(image)\n",
        "\n",
        "    return image\n",
        "\n",
        "# Simple augmentation for RGB images\n",
        "def augment_image(image):\n",
        "    image = tf.image.random_flip_left_right(image)\n",
        "    image = tf.image.random_flip_up_down(image)\n",
        "    image = tf.image.random_crop(image, size=(*CFG.img_size, 3))\n",
        "\n",
        "    rot = tf.random.normal((1,), mean=0.35, stddev=0.15)\n",
        "    if rot > 0.5:\n",
        "        image = tf.image.rot90(image)\n",
        "\n",
        "    return image"
      ]
    },
    {
      "cell_type": "markdown",
      "metadata": {
        "id": "jUGxNyIk7Hzg"
      },
      "source": [
        "### TensorFlow Dataset Creation and Pipeline Optimization"
      ]
    },
    {
      "cell_type": "code",
      "execution_count": null,
      "metadata": {
        "execution": {
          "iopub.execute_input": "2025-10-05T07:48:53.640521Z",
          "iopub.status.busy": "2025-10-05T07:48:53.640279Z",
          "iopub.status.idle": "2025-10-05T07:48:53.653757Z",
          "shell.execute_reply": "2025-10-05T07:48:53.653010Z",
          "shell.execute_reply.started": "2025-10-05T07:48:53.640499Z"
        },
        "id": "lSS-pIMH7Hzg",
        "trusted": true
      },
      "outputs": [],
      "source": [
        "def get_tf_dataset(image_paths,\n",
        "                   labels=None,\n",
        "                   image_processing_fn=None, # Function to preprocess or decode images\n",
        "                   augment_fn=None\n",
        "                  ):\n",
        "\n",
        "\n",
        "    # Create the dataset of image file paths\n",
        "    image_dataset = tf.data.Dataset.from_tensor_slices(image_paths)\n",
        "\n",
        "    # Load and preprocess images using the provided function\n",
        "    image_dataset = image_dataset.map(image_processing_fn,\n",
        "                                      num_parallel_calls=tf.data.AUTOTUNE)\n",
        "\n",
        "    # Apply data augmentation if a function is provided\n",
        "    if augment_fn is not None:\n",
        "        image_dataset = image_dataset.map(augment_fn,\n",
        "                                          num_parallel_calls=tf.data.AUTOTUNE)\n",
        "\n",
        "    # If labels are provided, create a label dataset and combine it with the images\n",
        "    if labels is not None:\n",
        "        labels_dataset = tf.data.Dataset.from_tensor_slices(labels)\n",
        "        return tf.data.Dataset.zip((image_dataset, labels_dataset))\n",
        "\n",
        "    return image_dataset\n",
        "\n",
        "\n",
        "\n",
        "def optimize_pipeline(tf_dataset,\n",
        "                      batch_size=CFG.BATCH_SIZE,\n",
        "                      Autotune_fn=CFG.Autotune,\n",
        "                      cache=False,\n",
        "                      batch=True):\n",
        "\n",
        "\n",
        "    tf_dataset = tf_dataset.prefetch(buffer_size=Autotune_fn)\n",
        "\n",
        "    # Optionally cache the dataset in memory for faster access\n",
        "    if cache:\n",
        "        tf_dataset = tf_dataset.cache()\n",
        "\n",
        "    # Shuffle the dataset to ensure randomness during training\n",
        "    tf_dataset = tf_dataset.shuffle(buffer_size=50)\n",
        "\n",
        "    # Optionally divide the dataset into batches\n",
        "    if batch:\n",
        "        tf_dataset = tf_dataset.batch(batch_size)\n",
        "\n",
        "    return tf_dataset"
      ]
    },
    {
      "cell_type": "markdown",
      "metadata": {
        "id": "FIOSxwmd7Hzh"
      },
      "source": [
        "### Creating TensorFlow Datasets"
      ]
    },
    {
      "cell_type": "code",
      "execution_count": null,
      "metadata": {
        "_kg_hide-input": true,
        "execution": {
          "iopub.execute_input": "2025-10-05T07:48:53.654984Z",
          "iopub.status.busy": "2025-10-05T07:48:53.654666Z",
          "iopub.status.idle": "2025-10-05T07:48:56.590999Z",
          "shell.execute_reply": "2025-10-05T07:48:56.590377Z",
          "shell.execute_reply.started": "2025-10-05T07:48:53.654943Z"
        },
        "id": "mAO9YT3x7Hzh",
        "trusted": true
      },
      "outputs": [],
      "source": [
        "# For Sentinel 1 dataset without using augmentation\n",
        "\n",
        "S1_dataset_tr = optimize_pipeline(tf_dataset=get_tf_dataset(image_paths = s1_data_tr.image_dir.values,\n",
        "                                               labels = s1_data_tr.label,\n",
        "                                               image_processing_fn = process_image_s1),\n",
        "\n",
        "                                  batch_size = 3 * CFG.BATCH_SIZE)\n",
        "\n",
        "\n",
        "S1_dataset_val = optimize_pipeline(tf_dataset = get_tf_dataset(image_paths = s1_data_val.image_dir.values,\n",
        "                                                           labels = s1_data_val.label,\n",
        "                                                           image_processing_fn = process_image_s1 ),\n",
        "                                   batch_size = 3* CFG.BATCH_SIZE\n",
        "                                  )"
      ]
    },
    {
      "cell_type": "code",
      "execution_count": null,
      "metadata": {
        "_kg_hide-input": true,
        "execution": {
          "iopub.execute_input": "2025-10-05T07:48:56.592184Z",
          "iopub.status.busy": "2025-10-05T07:48:56.591918Z",
          "iopub.status.idle": "2025-10-05T07:48:56.935875Z",
          "shell.execute_reply": "2025-10-05T07:48:56.935260Z",
          "shell.execute_reply.started": "2025-10-05T07:48:56.592159Z"
        },
        "id": "ZvLWCVIz7Hzh",
        "trusted": true
      },
      "outputs": [],
      "source": [
        "# For Sentinel 2 dataset\n",
        "S2_dataset_tr = optimize_pipeline(get_tf_dataset(image_paths = s2_data_tr.image_dir.values,\n",
        "                                                   labels = s2_data_tr.label,\n",
        "                                                   image_processing_fn = process_image_s2,\n",
        "                                                   augment_fn = augment_image_multispectral)\n",
        "                                 )\n",
        "\n",
        "\n",
        "S2_dataset_val = optimize_pipeline(get_tf_dataset(image_paths = s2_data_val.image_dir.values,\n",
        "                                                   labels = s2_data_val.label,\n",
        "                                                   image_processing_fn = process_image_s2,\n",
        "                                                   augment_fn = augment_image_multispectral)\n",
        "                                  )"
      ]
    },
    {
      "cell_type": "markdown",
      "metadata": {
        "id": "opYfh5nL7Hzl"
      },
      "source": [
        "### Inspecting a Batch from Dataset"
      ]
    },
    {
      "cell_type": "code",
      "execution_count": null,
      "metadata": {
        "_kg_hide-input": true,
        "execution": {
          "iopub.execute_input": "2025-10-05T07:48:56.937128Z",
          "iopub.status.busy": "2025-10-05T07:48:56.936863Z",
          "iopub.status.idle": "2025-10-05T07:48:58.462747Z",
          "shell.execute_reply": "2025-10-05T07:48:58.461847Z",
          "shell.execute_reply.started": "2025-10-05T07:48:56.937104Z"
        },
        "id": "v-KnUZ5X7Hzl",
        "outputId": "6204970d-70bd-4cba-bd5c-018c07a7286e",
        "trusted": true
      },
      "outputs": [
        {
          "name": "stdout",
          "output_type": "stream",
          "text": [
            "shape of SAR dataset input (9, 256, 256, 2)\n"
          ]
        }
      ],
      "source": [
        "for x,y in S1_dataset_tr.take(1): # Taking only one batch for checking\n",
        "    print(f'shape of SAR dataset input {x.shape}')"
      ]
    },
    {
      "cell_type": "code",
      "execution_count": null,
      "metadata": {
        "_kg_hide-input": true,
        "execution": {
          "iopub.execute_input": "2025-10-05T07:48:58.465990Z",
          "iopub.status.busy": "2025-10-05T07:48:58.465696Z",
          "iopub.status.idle": "2025-10-05T07:49:02.319348Z",
          "shell.execute_reply": "2025-10-05T07:49:02.318510Z",
          "shell.execute_reply.started": "2025-10-05T07:48:58.465963Z"
        },
        "id": "sCLJUjk97Hzl",
        "outputId": "3bd4a961-8ab7-45aa-b9ff-db61c9b6b7a7",
        "trusted": true
      },
      "outputs": [
        {
          "name": "stdout",
          "output_type": "stream",
          "text": [
            "shape of MultiSpectral dataset input (3, 256, 256, 12)\n"
          ]
        }
      ],
      "source": [
        "for x,y in S2_dataset_tr.take(1): # Taking only one batch for checking\n",
        "    print(f'shape of MultiSpectral dataset input {x.shape}')"
      ]
    },
    {
      "cell_type": "markdown",
      "metadata": {
        "id": "Z4k0eOjT7Hzm"
      },
      "source": [
        "### Multi-Channel CNN Model Definition"
      ]
    },
    {
      "cell_type": "code",
      "execution_count": null,
      "metadata": {
        "_kg_hide-input": true,
        "execution": {
          "iopub.execute_input": "2025-10-05T07:49:02.320922Z",
          "iopub.status.busy": "2025-10-05T07:49:02.320662Z",
          "iopub.status.idle": "2025-10-05T07:49:02.335537Z",
          "shell.execute_reply": "2025-10-05T07:49:02.334778Z",
          "shell.execute_reply.started": "2025-10-05T07:49:02.320900Z"
        },
        "id": "WlFs0r2W7Hzm",
        "trusted": true
      },
      "outputs": [],
      "source": [
        "def multichannel_cnn(num_channels: int,\n",
        "                     hidden_units: int,  # Number of units in the hidden dense layer\n",
        "                     weights=None        # 'imagenet' to use pretrained weights, None for random init\n",
        "                     ):\n",
        "\n",
        "\n",
        "    # Load the ResNet50V2 backbone without the top classification layer\n",
        "    backbone = tf.keras.applications.resnet_v2.ResNet50V2(\n",
        "        include_top=False,\n",
        "        input_shape=(*CFG.img_size, num_channels),\n",
        "        weights=weights,\n",
        "        pooling='avg'\n",
        "    )\n",
        "\n",
        "    # Add normalization and a dense layer for feature refinement\n",
        "    x = tf.keras.layers.BatchNormalization()(backbone.output)\n",
        "    x = tf.keras.layers.Dense(hidden_units, activation='relu')(x)\n",
        "\n",
        "    # Regularization layers to stabilize training and reduce overfitting\n",
        "    x = tf.keras.layers.BatchNormalization()(x)\n",
        "    x = tf.keras.layers.Dropout(rate=0.2)(x)\n",
        "\n",
        "    # Final classification layer\n",
        "    final_out = tf.keras.layers.Dense(2, activation='softmax')(x)\n",
        "\n",
        "    # Define the complete model\n",
        "    model = tf.keras.Model(inputs=backbone.input, outputs=final_out)\n",
        "\n",
        "    return model\n",
        "\n",
        "\n",
        "\n",
        "def plot_history(history, addn_metric=None):\n",
        "    his = pd.DataFrame(history.history)\n",
        "\n",
        "    if addn_metric:\n",
        "        plt.subplots(1, 3, figsize=(20, 6))\n",
        "\n",
        "        # Plot training vs validation loss\n",
        "        ax1 = plt.subplot(1, 3, 1)\n",
        "        ax1.plot(range(len(his)), his['loss'], color='g', label='Training')\n",
        "        ax1.plot(range(len(his)), his['val_loss'], color='r', label='Validation')\n",
        "        ax1.set_xlabel('Epochs')\n",
        "        ax1.set_ylabel('Loss')\n",
        "        ax1.legend()\n",
        "        ax1.set_title('Loss per Epoch')\n",
        "\n",
        "        # Plot training vs validation accuracy\n",
        "        ax2 = plt.subplot(1, 3, 2)\n",
        "        ax2.plot(range(len(his)), his['accuracy'], color='g', label='Training')\n",
        "        ax2.plot(range(len(his)), his['val_accuracy'], color='r', label='Validation')\n",
        "        ax2.set_xlabel('Epochs')\n",
        "        ax2.set_ylabel('Accuracy')\n",
        "        ax2.legend()\n",
        "        ax2.set_title('Accuracy per Epoch')\n",
        "\n",
        "        # Plot additional metric if provided\n",
        "        ax3 = plt.subplot(1, 3, 3)\n",
        "        ax3.plot(range(len(his)), his[f'{addn_metric}'], color='g', label='Training')\n",
        "        ax3.plot(range(len(his)), his[f'val_{addn_metric}'], color='r', label='Validation')\n",
        "        ax3.set_xlabel('Epochs')\n",
        "        ax3.set_ylabel(f'{addn_metric}')\n",
        "        ax3.legend()\n",
        "        ax3.set_title(f'{addn_metric} per Epoch')\n",
        "\n",
        "    else:\n",
        "        plt.subplots(1, 2, figsize=(20, 8))\n",
        "\n",
        "        # Plot training vs validation loss\n",
        "        ax1 = plt.subplot(1, 2, 1)\n",
        "        ax1.plot(range(len(his)), his['loss'], color='g', label='Training')\n",
        "        ax1.plot(range(len(his)), his['val_loss'], color='r', label='Validation')\n",
        "        ax1.set_xlabel('Epochs')\n",
        "        ax1.set_ylabel('Loss')\n",
        "        ax1.legend()\n",
        "        ax1.set_title('Loss per Epoch')\n",
        "\n",
        "        # Plot training vs validation accuracy\n",
        "        ax2 = plt.subplot(1, 2, 2)\n",
        "        ax2.plot(range(len(his)), his['accuracy'], color='g', label='Training')\n",
        "        ax2.plot(range(len(his)), his['val_accuracy'], color='r', label='Validation')\n",
        "        ax2.set_xlabel('Epochs')\n",
        "        ax2.set_ylabel('Accuracy')\n",
        "        ax2.legend()\n",
        "        ax2.set_title('Accuracy per Epoch')\n",
        "\n",
        "    plt.show()"
      ]
    },
    {
      "cell_type": "markdown",
      "metadata": {
        "id": "894AbcuC7Hzm"
      },
      "source": [
        "### Metrics"
      ]
    },
    {
      "cell_type": "code",
      "execution_count": null,
      "metadata": {
        "_kg_hide-input": true,
        "execution": {
          "iopub.execute_input": "2025-10-05T07:49:02.336865Z",
          "iopub.status.busy": "2025-10-05T07:49:02.336511Z",
          "iopub.status.idle": "2025-10-05T07:49:02.350101Z",
          "shell.execute_reply": "2025-10-05T07:49:02.349386Z",
          "shell.execute_reply.started": "2025-10-05T07:49:02.336833Z"
        },
        "id": "k_SfuSC87Hzm",
        "trusted": true
      },
      "outputs": [],
      "source": [
        "# Calculate recall metric\n",
        "def recall_m(y_true, y_pred):\n",
        "    true_positives = K.sum(K.round(K.clip(y_true * y_pred, 0, 1)))\n",
        "    possible_positives = K.sum(K.round(K.clip(y_true, 0, 1)))\n",
        "    recall = true_positives / (possible_positives + K.epsilon())\n",
        "    return recall\n",
        "\n",
        "\n",
        "# Calculate precision metric\n",
        "def precision_m(y_true, y_pred):\n",
        "    true_positives = K.sum(K.round(K.clip(y_true * y_pred, 0, 1)))\n",
        "    predicted_positives = K.sum(K.round(K.clip(y_pred, 0, 1)))\n",
        "    precision = true_positives / (predicted_positives + K.epsilon())\n",
        "    return precision\n",
        "\n",
        "\n",
        "# Calculate F1 score\n",
        "def f1_score(y_true, y_pred):\n",
        "    precision = precision_m(y_true, y_pred)\n",
        "    recall = recall_m(y_true, y_pred)\n",
        "    return 2 * ((precision * recall) / (precision + recall + K.epsilon()))"
      ]
    },
    {
      "cell_type": "markdown",
      "metadata": {
        "id": "HfNJCJed7Hzm"
      },
      "source": [
        "### Building and training the SAR CNN"
      ]
    },
    {
      "cell_type": "code",
      "execution_count": null,
      "metadata": {
        "_kg_hide-input": true,
        "execution": {
          "iopub.execute_input": "2025-10-05T07:49:02.351290Z",
          "iopub.status.busy": "2025-10-05T07:49:02.350972Z",
          "iopub.status.idle": "2025-10-05T07:49:04.227710Z",
          "shell.execute_reply": "2025-10-05T07:49:04.226480Z",
          "shell.execute_reply.started": "2025-10-05T07:49:02.351257Z"
        },
        "id": "GTWjVrpv7Hzm",
        "outputId": "095b5263-0655-4bca-efe4-7a311ee17276",
        "trusted": true
      },
      "outputs": [
        {
          "name": "stderr",
          "output_type": "stream",
          "text": [
            "/opt/conda/lib/python3.7/site-packages/keras/applications/imagenet_utils.py:333: UserWarning: This model usually expects 1 or 3 input channels. However, it was passed an input_shape with 2 input channels.\n",
            "  str(input_shape[-1]) + ' input channels.')\n"
          ]
        }
      ],
      "source": [
        "SAR_CNN = multichannel_cnn(num_channels = 2,\n",
        "                           hidden_units = 512, # Number of  hidden dense\n",
        "                          )\n",
        "\n",
        "\n",
        "\n",
        "SAR_CNN.compile(optimizer = tf.keras.optimizers.Adam(learning_rate=0.001),\n",
        "                loss = 'sparse_categorical_crossentropy',\n",
        "                metrics = ['accuracy',f1_score,recall_m,precision_m]\n",
        "               )\n",
        "\n",
        "!mkdir CNN_models"
      ]
    },
    {
      "cell_type": "markdown",
      "metadata": {
        "id": "d8Wmwhk67Hzm"
      },
      "source": [
        "### Defining callbacks"
      ]
    },
    {
      "cell_type": "code",
      "execution_count": null,
      "metadata": {
        "_kg_hide-input": true,
        "execution": {
          "iopub.execute_input": "2025-10-05T07:49:04.229530Z",
          "iopub.status.busy": "2025-10-05T07:49:04.229209Z",
          "iopub.status.idle": "2025-10-05T07:49:04.236907Z",
          "shell.execute_reply": "2025-10-05T07:49:04.236086Z",
          "shell.execute_reply.started": "2025-10-05T07:49:04.229500Z"
        },
        "id": "eXgmGKm_7Hzm",
        "trusted": true
      },
      "outputs": [],
      "source": [
        "EPOCHS = 2 if CFG.test_run else 50\n",
        "\n",
        "# Reduce learning rate\n",
        "reduce_lr=tf.keras.callbacks.ReduceLROnPlateau(patience=3,\n",
        "                                                factor=0.75,\n",
        "                                                min_delta=1e-2,\n",
        "                                                monitor='val_accuracy',\n",
        "                                                verbose=1,\n",
        "                                                mode='max')\n",
        "\n",
        "# Early stopping\n",
        "early_stopping=tf.keras.callbacks.EarlyStopping(patience=15,\n",
        "                                              min_delta=1e-3,\n",
        "                                              monitor='val_accuracy',\n",
        "                                              restore_best_weights=True,\n",
        "                                              mode='max')\n",
        "\n",
        "\n",
        "# Exponential decay\n",
        "def lr_scheduler(epoch, lr):\n",
        "\n",
        "# Learning rate scheduler, decays expo after the tenth epoch\n",
        "\n",
        "    if epoch < 10:\n",
        "        return lr\n",
        "    else:\n",
        "        return lr * tf.math.exp(-0.1)\n",
        "\n",
        "\n",
        "\n",
        "learning_scheduler = tf.keras.callbacks.LearningRateScheduler(lr_scheduler)\n",
        "\n",
        "\n",
        "callbacks_1= [reduce_lr,early_stopping,learning_scheduler]"
      ]
    },
    {
      "cell_type": "markdown",
      "metadata": {
        "id": "0lLggaMO7Hzn"
      },
      "source": [
        "### Training on SAR data"
      ]
    },
    {
      "cell_type": "code",
      "execution_count": null,
      "metadata": {
        "_kg_hide-input": true,
        "collapsed": true,
        "execution": {
          "iopub.execute_input": "2025-10-05T07:49:04.238798Z",
          "iopub.status.busy": "2025-10-05T07:49:04.238003Z",
          "iopub.status.idle": "2025-10-05T08:24:36.018468Z",
          "shell.execute_reply": "2025-10-05T08:24:36.017704Z",
          "shell.execute_reply.started": "2025-10-05T07:49:04.238764Z"
        },
        "id": "ChqjBRVU7Hzn",
        "outputId": "cda609c9-4738-419b-956c-d9276c924059",
        "trusted": true
      },
      "outputs": [
        {
          "name": "stdout",
          "output_type": "stream",
          "text": [
            "Epoch 1/50\n",
            "296/296 [==============================] - 71s 197ms/step - loss: 0.6626 - accuracy: 0.6622 - f1_score: 0.4452 - recall_m: 0.9595 - precision_m: 0.3052 - val_loss: 0.8843 - val_accuracy: 0.3268 - val_f1_score: 0.4632 - val_recall_m: 0.9067 - val_precision_m: 0.3230\n",
            "Epoch 2/50\n",
            "296/296 [==============================] - 41s 137ms/step - loss: 0.5955 - accuracy: 0.7196 - f1_score: 0.4442 - recall_m: 0.9595 - precision_m: 0.3052 - val_loss: 0.6455 - val_accuracy: 0.6762 - val_f1_score: 0.4705 - val_recall_m: 0.9867 - val_precision_m: 0.3230\n",
            "Epoch 3/50\n",
            "296/296 [==============================] - 41s 137ms/step - loss: 0.5606 - accuracy: 0.7399 - f1_score: 0.4476 - recall_m: 0.9764 - precision_m: 0.3052 - val_loss: 0.6529 - val_accuracy: 0.6732 - val_f1_score: 0.4656 - val_recall_m: 0.9600 - val_precision_m: 0.3230\n",
            "Epoch 4/50\n",
            "296/296 [==============================] - 42s 139ms/step - loss: 0.5444 - accuracy: 0.7459 - f1_score: 0.4458 - recall_m: 0.9493 - precision_m: 0.3052 - val_loss: 0.8070 - val_accuracy: 0.4918 - val_f1_score: 0.4640 - val_recall_m: 0.9467 - val_precision_m: 0.3230\n",
            "Epoch 5/50\n",
            "296/296 [==============================] - 43s 143ms/step - loss: 0.5437 - accuracy: 0.7466 - f1_score: 0.4454 - recall_m: 0.9527 - precision_m: 0.3052 - val_loss: 0.5709 - val_accuracy: 0.6957 - val_f1_score: 0.4669 - val_recall_m: 0.9867 - val_precision_m: 0.3230\n",
            "Epoch 6/50\n",
            "296/296 [==============================] - 42s 140ms/step - loss: 0.5609 - accuracy: 0.7342 - f1_score: 0.4492 - recall_m: 0.9797 - precision_m: 0.3052 - val_loss: 1.5545 - val_accuracy: 0.6762 - val_f1_score: 0.4672 - val_recall_m: 0.9733 - val_precision_m: 0.3230\n",
            "Epoch 7/50\n",
            "296/296 [==============================] - 41s 138ms/step - loss: 0.5736 - accuracy: 0.7380 - f1_score: 0.4449 - recall_m: 0.9527 - precision_m: 0.3052 - val_loss: 0.7328 - val_accuracy: 0.7541 - val_f1_score: 0.4666 - val_recall_m: 0.9600 - val_precision_m: 0.3230\n",
            "Epoch 8/50\n",
            "296/296 [==============================] - 41s 136ms/step - loss: 0.5625 - accuracy: 0.7260 - f1_score: 0.4454 - recall_m: 0.9595 - precision_m: 0.3052 - val_loss: 0.5444 - val_accuracy: 0.6957 - val_f1_score: 0.4666 - val_recall_m: 0.9733 - val_precision_m: 0.3230\n",
            "Epoch 9/50\n",
            "296/296 [==============================] - 41s 138ms/step - loss: 0.5315 - accuracy: 0.7451 - f1_score: 0.4469 - recall_m: 0.9730 - precision_m: 0.3052 - val_loss: 0.7813 - val_accuracy: 0.6777 - val_f1_score: 0.4686 - val_recall_m: 0.9600 - val_precision_m: 0.3230\n",
            "Epoch 10/50\n",
            "296/296 [==============================] - 41s 136ms/step - loss: 0.5160 - accuracy: 0.7620 - f1_score: 0.4479 - recall_m: 0.9696 - precision_m: 0.3052 - val_loss: 0.4987 - val_accuracy: 0.7406 - val_f1_score: 0.4668 - val_recall_m: 0.9733 - val_precision_m: 0.3230\n",
            "\n",
            "Epoch 00010: ReduceLROnPlateau reducing learning rate to 0.0007500000356230885.\n",
            "Epoch 11/50\n",
            "296/296 [==============================] - 41s 136ms/step - loss: 0.5074 - accuracy: 0.7560 - f1_score: 0.4491 - recall_m: 0.9730 - precision_m: 0.3052 - val_loss: 0.7587 - val_accuracy: 0.6642 - val_f1_score: 0.4688 - val_recall_m: 0.9467 - val_precision_m: 0.3230\n",
            "Epoch 12/50\n",
            "296/296 [==============================] - 41s 136ms/step - loss: 0.4951 - accuracy: 0.7688 - f1_score: 0.4475 - recall_m: 0.9730 - precision_m: 0.3052 - val_loss: 0.6949 - val_accuracy: 0.6732 - val_f1_score: 0.4673 - val_recall_m: 0.9600 - val_precision_m: 0.3230\n",
            "Epoch 13/50\n",
            "296/296 [==============================] - 41s 135ms/step - loss: 0.4820 - accuracy: 0.7624 - f1_score: 0.4448 - recall_m: 0.9493 - precision_m: 0.3052 - val_loss: 0.5751 - val_accuracy: 0.6792 - val_f1_score: 0.4713 - val_recall_m: 0.9867 - val_precision_m: 0.3230\n",
            "\n",
            "Epoch 00013: ReduceLROnPlateau reducing learning rate to 0.0004167102015344426.\n",
            "Epoch 14/50\n",
            "296/296 [==============================] - 41s 135ms/step - loss: 0.4790 - accuracy: 0.7744 - f1_score: 0.4447 - recall_m: 0.9561 - precision_m: 0.3052 - val_loss: 0.5421 - val_accuracy: 0.7076 - val_f1_score: 0.4645 - val_recall_m: 0.9333 - val_precision_m: 0.3230\n",
            "Epoch 15/50\n",
            "296/296 [==============================] - 41s 135ms/step - loss: 0.5052 - accuracy: 0.7534 - f1_score: 0.4479 - recall_m: 0.9662 - precision_m: 0.3052 - val_loss: 0.6361 - val_accuracy: 0.6717 - val_f1_score: 0.4699 - val_recall_m: 0.9600 - val_precision_m: 0.3230\n",
            "Epoch 16/50\n",
            "296/296 [==============================] - 41s 136ms/step - loss: 0.5016 - accuracy: 0.7601 - f1_score: 0.4457 - recall_m: 0.9595 - precision_m: 0.3052 - val_loss: 0.4904 - val_accuracy: 0.7796 - val_f1_score: 0.4702 - val_recall_m: 0.9733 - val_precision_m: 0.3230\n",
            "Epoch 17/50\n",
            "296/296 [==============================] - 41s 136ms/step - loss: 0.4620 - accuracy: 0.7770 - f1_score: 0.4478 - recall_m: 0.9764 - precision_m: 0.3052 - val_loss: 0.4889 - val_accuracy: 0.7271 - val_f1_score: 0.4660 - val_recall_m: 0.9467 - val_precision_m: 0.3230\n",
            "Epoch 18/50\n",
            "296/296 [==============================] - 41s 136ms/step - loss: 0.4460 - accuracy: 0.7827 - f1_score: 0.4464 - recall_m: 0.9696 - precision_m: 0.3052 - val_loss: 0.5462 - val_accuracy: 0.7646 - val_f1_score: 0.4631 - val_recall_m: 0.9467 - val_precision_m: 0.3230\n",
            "Epoch 19/50\n",
            "296/296 [==============================] - 41s 136ms/step - loss: 0.4295 - accuracy: 0.7935 - f1_score: 0.4483 - recall_m: 0.9595 - precision_m: 0.3052 - val_loss: 0.5208 - val_accuracy: 0.6942 - val_f1_score: 0.4615 - val_recall_m: 0.9467 - val_precision_m: 0.3230\n",
            "\n",
            "Epoch 00019: ReduceLROnPlateau reducing learning rate to 0.00017152151485788636.\n",
            "Epoch 20/50\n",
            "296/296 [==============================] - 41s 136ms/step - loss: 0.4365 - accuracy: 0.7943 - f1_score: 0.4426 - recall_m: 0.9392 - precision_m: 0.3052 - val_loss: 0.6230 - val_accuracy: 0.6192 - val_f1_score: 0.4621 - val_recall_m: 0.9467 - val_precision_m: 0.3230\n",
            "Epoch 21/50\n",
            "296/296 [==============================] - 41s 136ms/step - loss: 0.4259 - accuracy: 0.8089 - f1_score: 0.4475 - recall_m: 0.9730 - precision_m: 0.3052 - val_loss: 0.5380 - val_accuracy: 0.6747 - val_f1_score: 0.4778 - val_recall_m: 0.9600 - val_precision_m: 0.3348\n",
            "Epoch 22/50\n",
            "296/296 [==============================] - 41s 137ms/step - loss: 0.4228 - accuracy: 0.7920 - f1_score: 0.4461 - recall_m: 0.9628 - precision_m: 0.3052 - val_loss: 0.4673 - val_accuracy: 0.7166 - val_f1_score: 0.4636 - val_recall_m: 0.9600 - val_precision_m: 0.3230\n",
            "\n",
            "Epoch 00022: ReduceLROnPlateau reducing learning rate to 9.529969611321576e-05.\n",
            "Epoch 23/50\n",
            "296/296 [==============================] - 41s 137ms/step - loss: 0.4041 - accuracy: 0.8037 - f1_score: 0.4482 - recall_m: 0.9662 - precision_m: 0.3052 - val_loss: 0.4642 - val_accuracy: 0.6942 - val_f1_score: 0.4644 - val_recall_m: 0.9600 - val_precision_m: 0.3230\n",
            "Epoch 24/50\n",
            "296/296 [==============================] - 41s 136ms/step - loss: 0.4003 - accuracy: 0.8082 - f1_score: 0.4454 - recall_m: 0.9595 - precision_m: 0.3052 - val_loss: 0.4706 - val_accuracy: 0.7286 - val_f1_score: 0.4675 - val_recall_m: 0.9733 - val_precision_m: 0.3230\n",
            "Epoch 25/50\n",
            "296/296 [==============================] - 41s 136ms/step - loss: 0.3971 - accuracy: 0.8127 - f1_score: 0.4471 - recall_m: 0.9628 - precision_m: 0.3052 - val_loss: 0.4611 - val_accuracy: 0.8021 - val_f1_score: 0.4767 - val_recall_m: 0.9867 - val_precision_m: 0.3348\n",
            "Epoch 26/50\n",
            "296/296 [==============================] - 41s 136ms/step - loss: 0.3895 - accuracy: 0.8164 - f1_score: 0.4448 - recall_m: 0.9527 - precision_m: 0.3052 - val_loss: 0.4516 - val_accuracy: 0.7631 - val_f1_score: 0.4738 - val_recall_m: 0.9600 - val_precision_m: 0.3348\n",
            "Epoch 27/50\n",
            "296/296 [==============================] - 41s 136ms/step - loss: 0.3914 - accuracy: 0.8149 - f1_score: 0.4462 - recall_m: 0.9628 - precision_m: 0.3052 - val_loss: 0.4457 - val_accuracy: 0.7421 - val_f1_score: 0.4811 - val_recall_m: 0.9867 - val_precision_m: 0.3348\n",
            "Epoch 28/50\n",
            "296/296 [==============================] - 41s 136ms/step - loss: 0.3899 - accuracy: 0.8164 - f1_score: 0.4465 - recall_m: 0.9764 - precision_m: 0.3052 - val_loss: 0.4421 - val_accuracy: 0.7301 - val_f1_score: 0.4644 - val_recall_m: 0.9467 - val_precision_m: 0.3230\n",
            "\n",
            "Epoch 00028: ReduceLROnPlateau reducing learning rate to 3.922617179341614e-05.\n",
            "Epoch 29/50\n",
            "296/296 [==============================] - 41s 135ms/step - loss: 0.3636 - accuracy: 0.8251 - f1_score: 0.4457 - recall_m: 0.9493 - precision_m: 0.3052 - val_loss: 0.4413 - val_accuracy: 0.8096 - val_f1_score: 0.4692 - val_recall_m: 0.9733 - val_precision_m: 0.3230\n",
            "Epoch 30/50\n",
            "296/296 [==============================] - 41s 136ms/step - loss: 0.3718 - accuracy: 0.8183 - f1_score: 0.4442 - recall_m: 0.9595 - precision_m: 0.3052 - val_loss: 0.4233 - val_accuracy: 0.7946 - val_f1_score: 0.4635 - val_recall_m: 0.9600 - val_precision_m: 0.3230\n",
            "Epoch 31/50\n",
            "296/296 [==============================] - 41s 135ms/step - loss: 0.3576 - accuracy: 0.8382 - f1_score: 0.4483 - recall_m: 0.9764 - precision_m: 0.3052 - val_loss: 0.4217 - val_accuracy: 0.8066 - val_f1_score: 0.4765 - val_recall_m: 0.9733 - val_precision_m: 0.3348\n",
            "\n",
            "Epoch 00031: ReduceLROnPlateau reducing learning rate to 2.1794593521917704e-05.\n",
            "Epoch 32/50\n",
            "296/296 [==============================] - 41s 136ms/step - loss: 0.3765 - accuracy: 0.8217 - f1_score: 0.4442 - recall_m: 0.9595 - precision_m: 0.3052 - val_loss: 0.4279 - val_accuracy: 0.8171 - val_f1_score: 0.4673 - val_recall_m: 0.9733 - val_precision_m: 0.3230\n",
            "Epoch 33/50\n",
            "296/296 [==============================] - 41s 136ms/step - loss: 0.3517 - accuracy: 0.8375 - f1_score: 0.4481 - recall_m: 0.9662 - precision_m: 0.3052 - val_loss: 0.4092 - val_accuracy: 0.8156 - val_f1_score: 0.4713 - val_recall_m: 0.9600 - val_precision_m: 0.3230\n",
            "Epoch 34/50\n",
            "296/296 [==============================] - 41s 136ms/step - loss: 0.3623 - accuracy: 0.8348 - f1_score: 0.4457 - recall_m: 0.9595 - precision_m: 0.3052 - val_loss: 0.4348 - val_accuracy: 0.7706 - val_f1_score: 0.4689 - val_recall_m: 0.9867 - val_precision_m: 0.3230\n",
            "Epoch 35/50\n",
            "296/296 [==============================] - 41s 137ms/step - loss: 0.3457 - accuracy: 0.8397 - f1_score: 0.4470 - recall_m: 0.9662 - precision_m: 0.3052 - val_loss: 0.4151 - val_accuracy: 0.8156 - val_f1_score: 0.4633 - val_recall_m: 0.9333 - val_precision_m: 0.3230\n",
            "\n",
            "Epoch 00035: ReduceLROnPlateau reducing learning rate to 1.0957013046208885e-05.\n",
            "Epoch 36/50\n",
            "296/296 [==============================] - 42s 141ms/step - loss: 0.3369 - accuracy: 0.8551 - f1_score: 0.4487 - recall_m: 0.9662 - precision_m: 0.3052 - val_loss: 0.4092 - val_accuracy: 0.8201 - val_f1_score: 0.4706 - val_recall_m: 0.9867 - val_precision_m: 0.3230\n",
            "Epoch 37/50\n",
            "296/296 [==============================] - 43s 142ms/step - loss: 0.3447 - accuracy: 0.8405 - f1_score: 0.4470 - recall_m: 0.9561 - precision_m: 0.3052 - val_loss: 0.4218 - val_accuracy: 0.8171 - val_f1_score: 0.4811 - val_recall_m: 0.9733 - val_precision_m: 0.3348\n",
            "Epoch 38/50\n",
            "296/296 [==============================] - 43s 143ms/step - loss: 0.3548 - accuracy: 0.8363 - f1_score: 0.4430 - recall_m: 0.9392 - precision_m: 0.3052 - val_loss: 0.4081 - val_accuracy: 0.8216 - val_f1_score: 0.4599 - val_recall_m: 0.9600 - val_precision_m: 0.3230\n",
            "\n",
            "Epoch 00038: ReduceLROnPlateau reducing learning rate to 6.087864676374011e-06.\n",
            "Epoch 39/50\n",
            "296/296 [==============================] - 42s 140ms/step - loss: 0.3487 - accuracy: 0.8420 - f1_score: 0.4429 - recall_m: 0.9358 - precision_m: 0.3052 - val_loss: 0.4189 - val_accuracy: 0.8171 - val_f1_score: 0.4647 - val_recall_m: 0.9333 - val_precision_m: 0.3230\n",
            "Epoch 40/50\n",
            "296/296 [==============================] - 43s 142ms/step - loss: 0.3501 - accuracy: 0.8371 - f1_score: 0.4429 - recall_m: 0.9426 - precision_m: 0.3052 - val_loss: 0.4091 - val_accuracy: 0.8216 - val_f1_score: 0.4636 - val_recall_m: 0.9467 - val_precision_m: 0.3230\n",
            "Epoch 41/50\n",
            "296/296 [==============================] - 42s 139ms/step - loss: 0.3305 - accuracy: 0.8540 - f1_score: 0.4482 - recall_m: 0.9730 - precision_m: 0.3052 - val_loss: 0.4128 - val_accuracy: 0.8231 - val_f1_score: 0.4773 - val_recall_m: 0.9600 - val_precision_m: 0.3348\n",
            "\n",
            "Epoch 00041: ReduceLROnPlateau reducing learning rate to 3.3825003811216448e-06.\n",
            "Epoch 42/50\n",
            "296/296 [==============================] - 42s 139ms/step - loss: 0.3428 - accuracy: 0.8483 - f1_score: 0.4443 - recall_m: 0.9527 - precision_m: 0.3052 - val_loss: 0.4199 - val_accuracy: 0.7841 - val_f1_score: 0.4793 - val_recall_m: 0.9733 - val_precision_m: 0.3348\n",
            "Epoch 43/50\n",
            "296/296 [==============================] - 42s 139ms/step - loss: 0.3534 - accuracy: 0.8431 - f1_score: 0.4443 - recall_m: 0.9527 - precision_m: 0.3052 - val_loss: 0.4202 - val_accuracy: 0.7856 - val_f1_score: 0.4608 - val_recall_m: 0.9067 - val_precision_m: 0.3230\n",
            "Epoch 44/50\n",
            "296/296 [==============================] - 41s 137ms/step - loss: 0.3472 - accuracy: 0.8461 - f1_score: 0.4428 - recall_m: 0.9392 - precision_m: 0.3052 - val_loss: 0.4179 - val_accuracy: 0.8201 - val_f1_score: 0.4618 - val_recall_m: 0.9333 - val_precision_m: 0.3230\n",
            "\n",
            "Epoch 00044: ReduceLROnPlateau reducing learning rate to 1.8793631397784338e-06.\n",
            "Epoch 45/50\n",
            "296/296 [==============================] - 41s 137ms/step - loss: 0.3364 - accuracy: 0.8487 - f1_score: 0.4467 - recall_m: 0.9696 - precision_m: 0.3052 - val_loss: 0.4165 - val_accuracy: 0.8156 - val_f1_score: 0.4843 - val_recall_m: 0.9867 - val_precision_m: 0.3348\n",
            "Epoch 46/50\n",
            "296/296 [==============================] - 41s 137ms/step - loss: 0.3398 - accuracy: 0.8480 - f1_score: 0.4472 - recall_m: 0.9696 - precision_m: 0.3052 - val_loss: 0.4140 - val_accuracy: 0.8246 - val_f1_score: 0.4643 - val_recall_m: 0.9467 - val_precision_m: 0.3230\n",
            "Epoch 47/50\n",
            "296/296 [==============================] - 41s 137ms/step - loss: 0.3264 - accuracy: 0.8551 - f1_score: 0.4514 - recall_m: 0.9764 - precision_m: 0.3052 - val_loss: 0.4165 - val_accuracy: 0.8246 - val_f1_score: 0.4657 - val_recall_m: 0.9467 - val_precision_m: 0.3230\n",
            "\n",
            "Epoch 00047: ReduceLROnPlateau reducing learning rate to 1.044199649413713e-06.\n",
            "Epoch 48/50\n",
            "296/296 [==============================] - 41s 136ms/step - loss: 0.3486 - accuracy: 0.8435 - f1_score: 0.4452 - recall_m: 0.9392 - precision_m: 0.3052 - val_loss: 0.4093 - val_accuracy: 0.8261 - val_f1_score: 0.4713 - val_recall_m: 0.9733 - val_precision_m: 0.3230\n",
            "Epoch 49/50\n",
            "296/296 [==============================] - 41s 137ms/step - loss: 0.3348 - accuracy: 0.8476 - f1_score: 0.4471 - recall_m: 0.9662 - precision_m: 0.3052 - val_loss: 0.4160 - val_accuracy: 0.7916 - val_f1_score: 0.4731 - val_recall_m: 0.9467 - val_precision_m: 0.3348\n",
            "Epoch 50/50\n",
            "296/296 [==============================] - 41s 138ms/step - loss: 0.3437 - accuracy: 0.8465 - f1_score: 0.4455 - recall_m: 0.9662 - precision_m: 0.3052 - val_loss: 0.4156 - val_accuracy: 0.8201 - val_f1_score: 0.4772 - val_recall_m: 0.9733 - val_precision_m: 0.3348\n",
            "\n",
            "Epoch 00050: ReduceLROnPlateau reducing learning rate to 5.801714735298447e-07.\n"
          ]
        },
        {
          "name": "stderr",
          "output_type": "stream",
          "text": [
            "/opt/conda/lib/python3.7/site-packages/keras/utils/generic_utils.py:497: CustomMaskWarning: Custom mask layers require a config and must override get_config. When loading, the custom mask layer must be passed to the custom_objects argument.\n",
            "  category=CustomMaskWarning)\n"
          ]
        },
        {
          "data": {
            "image/png": "[encoded data removed]",
            "text/plain": [
              "<Figure size 1440x432 with 3 Axes>"
            ]
          },
          "metadata": {
            "needs_background": "light"
          },
          "output_type": "display_data"
        }
      ],
      "source": [
        "hist1 = SAR_CNN.fit(S1_dataset_tr,\n",
        "                    validation_data = S1_dataset_val,\n",
        "                    epochs = EPOCHS,\n",
        "                    callbacks = callbacks_1\n",
        "                   )\n",
        "\n",
        "\n",
        "# Save model\n",
        "sar_model_path = 'CNN_models/SAR_CNN.h5'\n",
        "SAR_CNN.save(filepath = 'CNN_models/SAR_CNN.h5')\n",
        "\n",
        "\n",
        "# Plot history\n",
        "plot_history(hist1,'f1_score')"
      ]
    },
    {
      "cell_type": "markdown",
      "metadata": {
        "id": "3CqYIFfZ7Hzn"
      },
      "source": [
        "### Evaluate on validation dataset"
      ]
    },
    {
      "cell_type": "code",
      "execution_count": null,
      "metadata": {
        "_kg_hide-input": true,
        "execution": {
          "iopub.execute_input": "2025-10-05T08:24:36.021524Z",
          "iopub.status.busy": "2025-10-05T08:24:36.019638Z",
          "iopub.status.idle": "2025-10-05T08:24:42.458448Z",
          "shell.execute_reply": "2025-10-05T08:24:42.457807Z",
          "shell.execute_reply.started": "2025-10-05T08:24:36.021486Z"
        },
        "id": "vnsJIxuk7Hzn",
        "outputId": "01e85cf3-b0fc-4d3b-9c04-8a55170927e0",
        "trusted": true
      },
      "outputs": [
        {
          "name": "stdout",
          "output_type": "stream",
          "text": [
            "75/75 [==============================] - 6s 75ms/step - loss: 0.4156 - accuracy: 0.8201 - f1_score: 0.4655 - recall_m: 0.9600 - precision_m: 0.3230\n"
          ]
        }
      ],
      "source": [
        "SAR_CNN.evaluate(S1_dataset_val)\n",
        "\n",
        "del SAR_CNN;gc.collect()\n",
        "\n",
        "K.clear_session()"
      ]
    },
    {
      "cell_type": "markdown",
      "metadata": {
        "id": "baSuCI-07Hzn"
      },
      "source": [
        "### Loading a Saved SAR CNN Model"
      ]
    },
    {
      "cell_type": "code",
      "execution_count": null,
      "metadata": {
        "_kg_hide-input": true,
        "execution": {
          "iopub.execute_input": "2025-10-05T08:24:42.460970Z",
          "iopub.status.busy": "2025-10-05T08:24:42.460708Z",
          "iopub.status.idle": "2025-10-05T08:24:44.277381Z",
          "shell.execute_reply": "2025-10-05T08:24:44.276727Z",
          "shell.execute_reply.started": "2025-10-05T08:24:42.460949Z"
        },
        "id": "VJlpu6-b7Hzn",
        "trusted": true
      },
      "outputs": [],
      "source": [
        "SAR_CNN = tf.keras.models.load_model('CNN_models/SAR_CNN.h5',\n",
        "                                     custom_objects={'f1_score':f1_score,\n",
        "                                                     'recall_m':recall_m,\n",
        "                                                     'precision_m':precision_m}\n",
        "                                    )"
      ]
    },
    {
      "cell_type": "markdown",
      "metadata": {
        "id": "HjB9OBom7Hzn"
      },
      "source": [
        "### Path to Test Image"
      ]
    },
    {
      "cell_type": "code",
      "execution_count": null,
      "metadata": {
        "execution": {
          "iopub.execute_input": "2025-10-05T08:51:55.799292Z",
          "iopub.status.busy": "2025-10-05T08:51:55.798929Z",
          "iopub.status.idle": "2025-10-05T08:51:55.803244Z",
          "shell.execute_reply": "2025-10-05T08:51:55.802426Z",
          "shell.execute_reply.started": "2025-10-05T08:51:55.799261Z"
        },
        "id": "f1wXNK-37Hzn",
        "trusted": true
      },
      "outputs": [],
      "source": [
        "img_path = \"/kaggle/input/test-data/subset_2_of_subset_0_of_S1A_IW_GRDH_1SDV_20220628T115711_20220628T115736_043863_053C7E_C351_Orb_Cal_Spk_TC.tif\""
      ]
    },
    {
      "cell_type": "markdown",
      "metadata": {
        "id": "axLTa6Vk7Hzo"
      },
      "source": [
        "### Prediction and testing"
      ]
    },
    {
      "cell_type": "code",
      "execution_count": null,
      "metadata": {
        "execution": {
          "iopub.execute_input": "2025-10-05T09:39:55.871485Z",
          "iopub.status.busy": "2025-10-05T09:39:55.870709Z",
          "iopub.status.idle": "2025-10-05T09:40:02.824708Z",
          "shell.execute_reply": "2025-10-05T09:40:02.823839Z",
          "shell.execute_reply.started": "2025-10-05T09:39:55.871453Z"
        },
        "id": "qzYZvRkK7Hzo",
        "outputId": "601df9d3-8c2f-46fa-d357-0cd72227041b",
        "trusted": true
      },
      "outputs": [
        {
          "name": "stdout",
          "output_type": "stream",
          "text": [
            "Loading trained model...\n",
            "Model loaded successfully.\n",
            "\n",
            "--- Prediction Result ---\n",
            "Label: Flooding\n",
            "Confidence: 0.7943\n"
          ]
        }
      ],
      "source": [
        "# Define the mapping between model output classes and their labels\n",
        "label_map = {0: \"No Flooding\", 1: \"Flooding\"}\n",
        "\n",
        "# Configuration class — must match the settings used during training\n",
        "class CFG:\n",
        "    img_size = (256, 256)\n",
        "\n",
        "\n",
        "print(\"Loading the trained model...\")\n",
        "SAR_CNN = tf.keras.models.load_model(\n",
        "    'CNN_models/SAR_CNN.h5',\n",
        "    custom_objects={'f1_score': None, 'recall_m': None, 'precision_m': None}\n",
        ")\n",
        "print(\"Model loaded successfully!\")\n",
        "\n",
        "\n",
        "def preprocess_sar_image(geotiff_path):\n",
        "\n",
        "    # Open the GeoTIFF file and read all its bands\n",
        "    with rasterio.open(geotiff_path) as dataset:\n",
        "        # Ensure the file has both VV and VH bands\n",
        "        if dataset.count < 2:\n",
        "            raise ValueError(\"The input GeoTIFF must have at least 2 bands (VV and VH).\")\n",
        "\n",
        "        # Read all bands into a NumPy array\n",
        "        all_bands = dataset.read()\n",
        "\n",
        "    # Reorder dimensions to match the model’s expected input format\n",
        "    img = all_bands.transpose((1, 2, 0))\n",
        "\n",
        "    # Apply the same preprocessing steps used during training\n",
        "    img = img.astype(np.float32) / 50.0\n",
        "    img = cv2.resize(img, CFG.img_size, interpolation=cv2.INTER_AREA)\n",
        "\n",
        "    # Add an extra dimension to represent a single image batch\n",
        "    img = np.expand_dims(img, axis=0)\n",
        "\n",
        "    return img\n",
        "\n",
        "\n",
        "def predict_flood(geotiff_path):\n",
        "\n",
        "    # Prepare the image for model input\n",
        "    model_input = preprocess_sar_image(geotiff_path)\n",
        "\n",
        "    # Run the prediction\n",
        "    pred_probs = SAR_CNN.predict(model_input)\n",
        "\n",
        "    # Extract the most likely class and its confidence\n",
        "    class_idx = np.argmax(pred_probs, axis=1)[0]\n",
        "    confidence = pred_probs[0][class_idx]\n",
        "\n",
        "    return label_map[class_idx], confidence\n",
        "\n",
        "\n",
        "# Provide the path to a single SAR GeoTIFF image\n",
        "geotiff_image_path = \"/kaggle/input/test-data/subset_2_of_subset_0_of_S1A_IW_GRDH_1SDV_20220628T115711_20220628T115736_043863_053C7E_C351_Orb_Cal_Spk_TC.tif\"\n",
        "\n",
        "# Run the prediction and display results\n",
        "try:\n",
        "    predicted_label, confidence_score = predict_flood(geotiff_image_path)\n",
        "\n",
        "    print(\"\\n--- Prediction Result ---\")\n",
        "    print(f\"Label: {predicted_label}\")\n",
        "    print(f\"Confidence: {confidence_score:.4f}\")\n",
        "\n",
        "except Exception as e:\n",
        "    print(f\"\\nAn error occurred during prediction: {e}\")"
      ]
    },
    {
      "cell_type": "code",
      "execution_count": null,
      "metadata": {
        "execution": {
          "iopub.execute_input": "2025-10-05T09:56:55.629924Z",
          "iopub.status.busy": "2025-10-05T09:56:55.629195Z",
          "iopub.status.idle": "2025-10-05T09:56:55.634384Z",
          "shell.execute_reply": "2025-10-05T09:56:55.633537Z",
          "shell.execute_reply.started": "2025-10-05T09:56:55.629887Z"
        },
        "id": "SpXa5L9V7Hzo",
        "outputId": "37ec3c2c-79e6-458c-fade-87a8cc831209",
        "trusted": true
      },
      "outputs": [
        {
          "name": "stdout",
          "output_type": "stream",
          "text": [
            "Predicted Label: Flooding\n",
            "Confidence Score: 0.7943\n"
          ]
        }
      ],
      "source": [
        "print(f\"Predicted Label: {predicted_label}\")\n",
        "print(f\"Confidence Score: {confidence_score:.4f}\")"
      ]
    }
  ],
  "metadata": {
    "colab": {
      "provenance": []
    },
    "kaggle": {
      "accelerator": "gpu",
      "dataSources": [
        {
          "datasetId": 2227758,
          "sourceId": 3725387,
          "sourceType": "datasetVersion"
        }
      ],
      "dockerImageVersionId": 30198,
      "isGpuEnabled": true,
      "isInternetEnabled": true,
      "language": "python",
      "sourceType": "notebook"
    },
    "kernelspec": {
      "display_name": "Python 3",
      "language": "python",
      "name": "python3"
    },
    "language_info": {
      "codemirror_mode": {
        "name": "ipython",
        "version": 3
      },
      "file_extension": ".py",
      "mimetype": "text/x-python",
      "name": "python",
      "nbconvert_exporter": "python",
      "pygments_lexer": "ipython3",
      "version": "3.7.12"
    }
  },
  "nbformat": 4,
  "nbformat_minor": 0
}
