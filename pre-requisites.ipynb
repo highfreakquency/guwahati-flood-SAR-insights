{
 "cells": [
  {
   "cell_type": "markdown",
   "id": "029df971",
   "metadata": {},
   "source": [
    "## Installing and importing necessary packages:"
   ]
  },
  {
   "cell_type": "code",
   "execution_count": null,
   "id": "b1b204a8",
   "metadata": {},
   "outputs": [],
   "source": [
    "# !pip install numpy \n",
    "# !pip install pandas\n",
    "# !pip install seaborn\n",
    "# !pip install matplotlib\n",
    "# !pip install tqdm\n",
    "# !pip install scikit-learn\n",
    "# !pip install pillow\n",
    "# !pip install opencv-python\n",
    "# !pip install tensorflow\n",
    "# !pip install keras\n",
    "# !pip install rasterio\n",
    "# !pip install ipython\n",
    "# !pip install notebook"
   ]
  },
  {
   "cell_type": "code",
   "execution_count": null,
   "id": "3ff9103a",
   "metadata": {},
   "outputs": [],
   "source": [
    "import json\n",
    "import tensorflow as tf\n",
    "import tensorflow.keras.backend as K\n",
    "import numpy as np \n",
    "import pandas as pd\n",
    "import seaborn as sns\n",
    "import os\n",
    "import gc\n",
    "import rasterio as rio\n",
    "from PIL import Image\n",
    "import matplotlib.pyplot as plt\n",
    "from matplotlib import  cm\n",
    "import cv2\n",
    "from matplotlib import animation\n",
    "from IPython.display import HTML\n",
    "from tqdm import tqdm\n",
    "from sklearn.model_selection import train_test_split"
   ]
  }
 ],
 "metadata": {
  "kernelspec": {
   "display_name": "NASA",
   "language": "python",
   "name": "python3"
  },
  "language_info": {
   "name": "python",
   "version": "3.13.7"
  }
 },
 "nbformat": 4,
 "nbformat_minor": 5
}
